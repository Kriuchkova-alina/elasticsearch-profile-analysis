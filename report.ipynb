{
 "cells": [
  {
   "cell_type": "markdown",
   "metadata": {},
   "source": [
    "## Импорт необходимых библиотек"
   ]
  },
  {
   "cell_type": "code",
   "execution_count": 1,
   "metadata": {},
   "outputs": [],
   "source": [
    "import pandas as pd\n",
    "import numpy as np\n",
    "import seaborn as sns\n",
    "import matplotlib.pyplot as plt\n",
    "import requests"
   ]
  },
  {
   "cell_type": "code",
   "execution_count": 2,
   "metadata": {},
   "outputs": [],
   "source": [
    "pd.options.mode.chained_assignment = None"
   ]
  },
  {
   "cell_type": "markdown",
   "metadata": {},
   "source": [
    "## Загрузка и чтение датафрейма"
   ]
  },
  {
   "cell_type": "code",
   "execution_count": 2,
   "metadata": {},
   "outputs": [
    {
     "data": {
      "text/html": [
       "<div>\n",
       "<style scoped>\n",
       "    .dataframe tbody tr th:only-of-type {\n",
       "        vertical-align: middle;\n",
       "    }\n",
       "\n",
       "    .dataframe tbody tr th {\n",
       "        vertical-align: top;\n",
       "    }\n",
       "\n",
       "    .dataframe thead th {\n",
       "        text-align: right;\n",
       "    }\n",
       "</style>\n",
       "<table border=\"1\" class=\"dataframe\">\n",
       "  <thead>\n",
       "    <tr style=\"text-align: right;\">\n",
       "      <th></th>\n",
       "      <th>ComponentID</th>\n",
       "      <th>OperationID</th>\n",
       "      <th>PhaseID</th>\n",
       "      <th>Source</th>\n",
       "      <th>SourceFileName</th>\n",
       "      <th>Timestamp</th>\n",
       "    </tr>\n",
       "  </thead>\n",
       "  <tbody>\n",
       "    <tr>\n",
       "      <th>0</th>\n",
       "      <td>id_stage</td>\n",
       "      <td>1a7f81f9-0575-4fba-aa4b-efb71bf51830</td>\n",
       "      <td>stage_json_update</td>\n",
       "      <td>System_E</td>\n",
       "      <td>2025-08-07-09-19-47-439_0.txt</td>\n",
       "      <td>2025-07-08-05-05-00-003</td>\n",
       "    </tr>\n",
       "    <tr>\n",
       "      <th>1</th>\n",
       "      <td>id_stage</td>\n",
       "      <td>434688eb-b563-486a-8b8a-9fafce2d50aa</td>\n",
       "      <td>stage_find</td>\n",
       "      <td>System_E</td>\n",
       "      <td>2025-08-07-09-19-47-444_1.txt</td>\n",
       "      <td>2025-07-08-05-05-00-004</td>\n",
       "    </tr>\n",
       "    <tr>\n",
       "      <th>2</th>\n",
       "      <td>id_stage</td>\n",
       "      <td>f0e8b9af-ca32-4085-b109-fad580372463</td>\n",
       "      <td>stage_after_cons</td>\n",
       "      <td>System_E</td>\n",
       "      <td>2025-08-07-09-19-47-444_2.txt</td>\n",
       "      <td>2025-07-08-05-05-00-006</td>\n",
       "    </tr>\n",
       "    <tr>\n",
       "      <th>3</th>\n",
       "      <td>id_stage</td>\n",
       "      <td>10d09e69-d0c7-49cd-af3b-2e5f3a303cdc</td>\n",
       "      <td>stage_before_cons</td>\n",
       "      <td>System_Z</td>\n",
       "      <td>2025-08-07-09-19-47-445_3.txt</td>\n",
       "      <td>2025-07-08-05-05-00-013</td>\n",
       "    </tr>\n",
       "    <tr>\n",
       "      <th>4</th>\n",
       "      <td>id_stage</td>\n",
       "      <td>8f4b3e9a-0739-4482-aa96-024c18c087ec</td>\n",
       "      <td>stage_after_cons</td>\n",
       "      <td>System_ES</td>\n",
       "      <td>2025-08-07-09-19-47-445_4.txt</td>\n",
       "      <td>2025-07-08-05-05-00-014</td>\n",
       "    </tr>\n",
       "  </tbody>\n",
       "</table>\n",
       "</div>"
      ],
      "text/plain": [
       "  ComponentID                           OperationID            PhaseID  \\\n",
       "0    id_stage  1a7f81f9-0575-4fba-aa4b-efb71bf51830  stage_json_update   \n",
       "1    id_stage  434688eb-b563-486a-8b8a-9fafce2d50aa         stage_find   \n",
       "2    id_stage  f0e8b9af-ca32-4085-b109-fad580372463   stage_after_cons   \n",
       "3    id_stage  10d09e69-d0c7-49cd-af3b-2e5f3a303cdc  stage_before_cons   \n",
       "4    id_stage  8f4b3e9a-0739-4482-aa96-024c18c087ec   stage_after_cons   \n",
       "\n",
       "      Source                 SourceFileName                Timestamp  \n",
       "0   System_E  2025-08-07-09-19-47-439_0.txt  2025-07-08-05-05-00-003  \n",
       "1   System_E  2025-08-07-09-19-47-444_1.txt  2025-07-08-05-05-00-004  \n",
       "2   System_E  2025-08-07-09-19-47-444_2.txt  2025-07-08-05-05-00-006  \n",
       "3   System_Z  2025-08-07-09-19-47-445_3.txt  2025-07-08-05-05-00-013  \n",
       "4  System_ES  2025-08-07-09-19-47-445_4.txt  2025-07-08-05-05-00-014  "
      ]
     },
     "execution_count": 2,
     "metadata": {},
     "output_type": "execute_result"
    }
   ],
   "source": [
    "public_url = 'https://disk.yandex.ru/d/kSXgLjlb37VRCg'\n",
    "api_url = 'https://cloud-api.yandex.net/v1/disk/public/resources/download?'\n",
    "params = {'public_key':public_url}\n",
    "response = requests.get(api_url, params=params)\n",
    "response.raise_for_status()\n",
    "download_url = response.json()['href']\n",
    "report = pd.read_csv(download_url)\n",
    "report.head()"
   ]
  },
  {
   "cell_type": "code",
   "execution_count": 4,
   "metadata": {},
   "outputs": [
    {
     "data": {
      "text/html": [
       "<div>\n",
       "<style scoped>\n",
       "    .dataframe tbody tr th:only-of-type {\n",
       "        vertical-align: middle;\n",
       "    }\n",
       "\n",
       "    .dataframe tbody tr th {\n",
       "        vertical-align: top;\n",
       "    }\n",
       "\n",
       "    .dataframe thead th {\n",
       "        text-align: right;\n",
       "    }\n",
       "</style>\n",
       "<table border=\"1\" class=\"dataframe\">\n",
       "  <thead>\n",
       "    <tr style=\"text-align: right;\">\n",
       "      <th></th>\n",
       "      <th>OperationID</th>\n",
       "      <th>PhaseID</th>\n",
       "      <th>Timestamp</th>\n",
       "    </tr>\n",
       "  </thead>\n",
       "  <tbody>\n",
       "    <tr>\n",
       "      <th>0</th>\n",
       "      <td>1a7f81f9-0575-4fba-aa4b-efb71bf51830</td>\n",
       "      <td>stage_json_update</td>\n",
       "      <td>2025-07-08-05-05-00-003</td>\n",
       "    </tr>\n",
       "    <tr>\n",
       "      <th>1</th>\n",
       "      <td>434688eb-b563-486a-8b8a-9fafce2d50aa</td>\n",
       "      <td>stage_find_dublicate</td>\n",
       "      <td>2025-07-08-05-05-00-004</td>\n",
       "    </tr>\n",
       "    <tr>\n",
       "      <th>2</th>\n",
       "      <td>f0e8b9af-ca32-4085-b109-fad580372463</td>\n",
       "      <td>stage_flk2</td>\n",
       "      <td>2025-07-08-05-05-00-006</td>\n",
       "    </tr>\n",
       "    <tr>\n",
       "      <th>3</th>\n",
       "      <td>10d09e69-d0c7-49cd-af3b-2e5f3a303cdc</td>\n",
       "      <td>stage_flk1</td>\n",
       "      <td>2025-07-08-05-05-00-013</td>\n",
       "    </tr>\n",
       "    <tr>\n",
       "      <th>4</th>\n",
       "      <td>8f4b3e9a-0739-4482-aa96-024c18c087ec</td>\n",
       "      <td>stage_flk2</td>\n",
       "      <td>2025-07-08-05-05-00-014</td>\n",
       "    </tr>\n",
       "  </tbody>\n",
       "</table>\n",
       "</div>"
      ],
      "text/plain": [
       "                            OperationID               PhaseID  \\\n",
       "0  1a7f81f9-0575-4fba-aa4b-efb71bf51830     stage_json_update   \n",
       "1  434688eb-b563-486a-8b8a-9fafce2d50aa  stage_find_dublicate   \n",
       "2  f0e8b9af-ca32-4085-b109-fad580372463            stage_flk2   \n",
       "3  10d09e69-d0c7-49cd-af3b-2e5f3a303cdc            stage_flk1   \n",
       "4  8f4b3e9a-0739-4482-aa96-024c18c087ec            stage_flk2   \n",
       "\n",
       "                 Timestamp  \n",
       "0  2025-07-08-05-05-00-003  \n",
       "1  2025-07-08-05-05-00-004  \n",
       "2  2025-07-08-05-05-00-006  \n",
       "3  2025-07-08-05-05-00-013  \n",
       "4  2025-07-08-05-05-00-014  "
      ]
     },
     "execution_count": 4,
     "metadata": {},
     "output_type": "execute_result"
    }
   ],
   "source": [
    "#копия датафрейма с нужными столбцами\n",
    "report_copy = report[['OperationID', 'PhaseID', 'Timestamp']]\n",
    "report_copy.head()"
   ]
  },
  {
   "cell_type": "markdown",
   "metadata": {},
   "source": [
    "## Обработка и подготовка датафрейма"
   ]
  },
  {
   "cell_type": "code",
   "execution_count": 5,
   "metadata": {},
   "outputs": [
    {
     "data": {
      "text/plain": [
       "OperationID    object\n",
       "PhaseID        object\n",
       "Timestamp      object\n",
       "dtype: object"
      ]
     },
     "execution_count": 5,
     "metadata": {},
     "output_type": "execute_result"
    }
   ],
   "source": [
    "report_copy.dtypes"
   ]
  },
  {
   "cell_type": "code",
   "execution_count": 6,
   "metadata": {},
   "outputs": [
    {
     "data": {
      "text/plain": [
       "OperationID    0\n",
       "PhaseID        0\n",
       "Timestamp      0\n",
       "dtype: int64"
      ]
     },
     "execution_count": 6,
     "metadata": {},
     "output_type": "execute_result"
    }
   ],
   "source": [
    "report_copy.isna().sum()"
   ]
  },
  {
   "cell_type": "code",
   "execution_count": 7,
   "metadata": {},
   "outputs": [],
   "source": [
    "# Перевод столбца Timestamp в тип datetime\n",
    "report_copy['Timestamp'] = pd.to_datetime(report_copy['Timestamp'], format='%Y-%m-%d-%H-%M-%S-%f')"
   ]
  },
  {
   "cell_type": "code",
   "execution_count": 8,
   "metadata": {},
   "outputs": [],
   "source": [
    "# Сбор списков фаз обработки профилей\n",
    "initial_phase = ['stage_sudir2', \n",
    "                 'ulk_profile_in', \n",
    "                 'ESIA_message_profile_in', \n",
    "                 'MFC_message_profile_in', \n",
    "                 'FATALOIV_message_profile_in',\n",
    "                 'ROGDOIV_message_profile_in',\n",
    "                 'BRAKZAKOIV_message_profile_in',\n",
    "                 'BRAKRASTOIV_message_profile_in', \n",
    "                 'PARENTOIV_message_profile_in',\n",
    "                 'FATAL_message_profile_in',\n",
    "                 'ROGD_message_profile_in',\n",
    "                 'PERNAME_message_profile_in',\n",
    "                 'ERL_message_profile_in',\n",
    "                 'RR_message_profile_in']\n",
    "\n",
    "block_phase = ['lock_start', 'lock_end']\n",
    "\n",
    "flk_1_phase = ['stage_to_flk1', 'stage_flk1']\n",
    "\n",
    "dublicate_search_phase = ['stage_get_dublicate', \n",
    "                          'stage_ud_get_json', \n",
    "                          'stage_find_dublicate', \n",
    "                          'stage_ud_find_json']\n",
    "\n",
    "flk_2_phase = ['stage_to_flk2', 'stage_flk2']\n",
    "\n",
    "saving_profile_phase = ['stage_json_insert', \n",
    "                        'ud_response_insert', \n",
    "                        'stage_json_update', \n",
    "                        'ud_response_update']\n",
    "\n",
    "releasing_lock_phase = ['unlock_start', 'unlock_end']\n",
    "\n",
    "ending_phase = ['stage_sudir2_resp', \n",
    "                'ulk_profile_out', \n",
    "                'ESIA_message_profile_out', \n",
    "                'MFC_message_profile_out', \n",
    "                'FATALOIV_message_profile_out',\n",
    "                'ROGDOIV_message_profile_out', \n",
    "                'BRAKZAKOIV_message_profile_out', \n",
    "                'BRAKRASTOIV_message_profile_out',\n",
    "                'PARENTOIV_message_profile_out', \n",
    "                'FATAL_message_profile_out', \n",
    "                'ROGD_message_profile_out',\n",
    "                'PERNAME_message_profile_out',\n",
    "                'ERL_message_profile_out',\n",
    "                'RR_message_profile_out']\n",
    "\n",
    "validation_phase = ['stage_ksrd_valid_save', \n",
    "                    'extval_from_ksrd_asur_msg'] \n",
    "\n",
    "ignore_phase = ['locked_by_merge'] # ошибка слияния, игнорируется\n",
    "\n",
    "error_business_phase = ['skip_new_deleted', 'stage_cannot_del_val', 'stage_update_rip']\n",
    "\n",
    "error_phase = ['exception', 'stoplist_response', 'stoplist_response_org']"
   ]
  },
  {
   "cell_type": "code",
   "execution_count": 9,
   "metadata": {},
   "outputs": [
    {
     "data": {
      "text/plain": [
       "['ESIA_message_out',\n",
       " 'ESIA_message_in',\n",
       " 'extval_result',\n",
       " 'BRAKZAKOIV_message_out',\n",
       " 'BRAKZAKOIV_message_in',\n",
       " 'BRAKRASTOIV_message_out',\n",
       " 'BRAKRASTOIV_message_in',\n",
       " 'PARENTOIV_message_in',\n",
       " 'PARENTOIV_message_out',\n",
       " 'MFC_message_in',\n",
       " 'MFC_message_out']"
      ]
     },
     "execution_count": 9,
     "metadata": {},
     "output_type": "execute_result"
    }
   ],
   "source": [
    "# Поиск фаз, не описанных в ТЗ\n",
    "unknow_phase = []\n",
    "all_phase = (initial_phase + \n",
    "             block_phase + \n",
    "             flk_1_phase + \n",
    "             dublicate_search_phase +\n",
    "             flk_2_phase + \n",
    "             saving_profile_phase + \n",
    "             releasing_lock_phase + \n",
    "             ending_phase + \n",
    "             validation_phase +\n",
    "             ignore_phase + \n",
    "             error_business_phase +\n",
    "             error_phase)\n",
    "for phase in report_copy['PhaseID']:\n",
    "    if phase in all_phase:\n",
    "        continue\n",
    "    else:\n",
    "        if phase in unknow_phase:\n",
    "            continue\n",
    "        else:\n",
    "            unknow_phase.append(phase)\n",
    "\n",
    "unknow_phase"
   ]
  },
  {
   "cell_type": "code",
   "execution_count": 10,
   "metadata": {},
   "outputs": [],
   "source": [
    "# Найдены фазы, не описанные в ТЗ. Уточнили, к каким стадиям обработки относятся данные фазы, добавили в списки\n",
    "validation_phase += [unknow_phase[2]]\n",
    "\n",
    "ignore_phase = (ignore_phase + \n",
    "               [unknow_phase[1]] +\n",
    "               [unknow_phase[4]] + \n",
    "               [unknow_phase[6]] + \n",
    "               [unknow_phase[7]] + \n",
    "               [unknow_phase[9]] +\n",
    "               [unknow_phase[0]] + \n",
    "               [unknow_phase[3]] + \n",
    "               [unknow_phase[5]] + \n",
    "               [unknow_phase[8]] + \n",
    "               [unknow_phase[10]])"
   ]
  },
  {
   "cell_type": "code",
   "execution_count": 11,
   "metadata": {},
   "outputs": [],
   "source": [
    "# Ищем профили с ошибкой 1,собираем профили в отдельный лист\n",
    "error_report = report_copy[report_copy['PhaseID'].isin(error_phase)]\n",
    "operation_id_errors = error_report['OperationID'].to_list()"
   ]
  },
  {
   "cell_type": "code",
   "execution_count": 12,
   "metadata": {},
   "outputs": [],
   "source": [
    "# Сохраняем информацию по профилям с ошибкой в отдельный датафрейм\n",
    "error_report.to_csv('error_report.csv')"
   ]
  },
  {
   "cell_type": "code",
   "execution_count": 13,
   "metadata": {},
   "outputs": [],
   "source": [
    "# Удаляем профили с ошибкой из основного датафрейма\n",
    "report_copy = report_copy[~report_copy['OperationID'].isin(operation_id_errors)]"
   ]
  },
  {
   "cell_type": "code",
   "execution_count": 14,
   "metadata": {},
   "outputs": [],
   "source": [
    "# Удаляем обрезанные профили\n",
    "profile_with_in = report_copy[report_copy['PhaseID'].isin(initial_phase)].OperationID.to_list()\n",
    "report_copy = report_copy[report_copy['OperationID'].isin(profile_with_in)]"
   ]
  },
  {
   "cell_type": "code",
   "execution_count": 15,
   "metadata": {},
   "outputs": [],
   "source": [
    "# удаляем профили с бизнес-ошибками, эти профили не учитываем\n",
    "profile_error_business = report_copy[report_copy['PhaseID'].isin(error_business_phase)].OperationID.to_list()\n",
    "report_copy = report_copy[~report_copy['OperationID'].isin(profile_error_business)]"
   ]
  },
  {
   "cell_type": "code",
   "execution_count": 16,
   "metadata": {},
   "outputs": [],
   "source": [
    "# Вычислим время конечной фазы у каждого профиля\n",
    "end_time = report_copy[report_copy['PhaseID'].isin(ending_phase)] \\\n",
    "           .groupby(['OperationID', 'PhaseID'], as_index=False) \\\n",
    "           .agg({'Timestamp':'max'})[['OperationID', 'Timestamp']]\n",
    "end_time.rename(columns={'Timestamp':'max_time'}, inplace=True)\n",
    "\n",
    "# Соединим с основной таблицей\n",
    "report_copy = pd.merge(report_copy, end_time, how='left', on='OperationID')"
   ]
  },
  {
   "cell_type": "code",
   "execution_count": 17,
   "metadata": {},
   "outputs": [],
   "source": [
    "# найдем id где были фазы валидации после _out, это понадобится для кода ошибки\n",
    "report_copy_error_2 = report_copy[(report_copy['PhaseID'].isin(validation_phase)) & (report_copy['Timestamp'] > report_copy['max_time'])]\n",
    "operation_id_error_2 = list(report_copy_error_2.OperationID.unique())"
   ]
  },
  {
   "cell_type": "code",
   "execution_count": 18,
   "metadata": {},
   "outputs": [],
   "source": [
    "report_copy = report_copy[report_copy['Timestamp'] <= report_copy['max_time']] \\\n",
    "             .drop_duplicates(subset=['OperationID', 'PhaseID', 'Timestamp'])"
   ]
  },
  {
   "cell_type": "code",
   "execution_count": 19,
   "metadata": {},
   "outputs": [],
   "source": [
    "report_copy = report_copy[['OperationID', 'PhaseID', 'Timestamp']]"
   ]
  },
  {
   "cell_type": "code",
   "execution_count": 20,
   "metadata": {},
   "outputs": [],
   "source": [
    "# теперь уберем фазы, которые не влияют на ошибки, но игнорируются при рассчетах\n",
    "report_copy_clean = report_copy[~report_copy['PhaseID'].isin(ignore_phase)]\n",
    "report_copy_clean = report_copy_clean[~report_copy_clean['PhaseID'].isin(validation_phase)]"
   ]
  },
  {
   "cell_type": "code",
   "execution_count": 21,
   "metadata": {},
   "outputs": [
    {
     "data": {
      "text/plain": [
       "['locked_by_merge',\n",
       " 'ESIA_message_in',\n",
       " 'BRAKZAKOIV_message_in',\n",
       " 'BRAKRASTOIV_message_in',\n",
       " 'PARENTOIV_message_in',\n",
       " 'MFC_message_in',\n",
       " 'ESIA_message_out',\n",
       " 'BRAKZAKOIV_message_out',\n",
       " 'BRAKRASTOIV_message_out',\n",
       " 'PARENTOIV_message_out',\n",
       " 'MFC_message_out']"
      ]
     },
     "execution_count": 21,
     "metadata": {},
     "output_type": "execute_result"
    }
   ],
   "source": [
    "ignore_phase"
   ]
  },
  {
   "cell_type": "code",
   "execution_count": 22,
   "metadata": {},
   "outputs": [],
   "source": [
    "report_copy_clean.drop([907, 908, 910, 911], axis=0, inplace=True)"
   ]
  },
  {
   "cell_type": "markdown",
   "metadata": {},
   "source": [
    "Получили чистый датафрейм без профилей с ошибкой, без обрезанных профилей и т.д. Теперь проведем необходимые преобразования для расчета длительности фаз"
   ]
  },
  {
   "cell_type": "markdown",
   "metadata": {},
   "source": [
    "## Расчет длительности фаз"
   ]
  },
  {
   "cell_type": "code",
   "execution_count": 23,
   "metadata": {},
   "outputs": [],
   "source": [
    "# добавляем столбец, который считает количество повторяющихся фаз\n",
    "report_copy_clean['PhaseID_num'] = report_copy_clean.groupby(['OperationID', 'PhaseID']).cumcount()"
   ]
  },
  {
   "cell_type": "code",
   "execution_count": 24,
   "metadata": {},
   "outputs": [],
   "source": [
    "# функция, которая создает новый столбец с названием этапа у каждой фазы\n",
    "# т.к. у фаз поиска дубликатов и сохранения профиля есть 2 версии течения, для каждой будет свое кодовое название\n",
    "def get_phase(row):\n",
    "    if row['PhaseID'] in initial_phase:\n",
    "        if row['PhaseID_num'] == 0:\n",
    "            return 'initial_phase'\n",
    "        else:\n",
    "            return f\"initial_phase_{row['PhaseID_num']}\"\n",
    "        \n",
    "    elif row['PhaseID'] in ending_phase:\n",
    "        if row['PhaseID_num'] == 0:\n",
    "            return 'ending_phase'\n",
    "        else:\n",
    "            return f\"ending_phase_{row['PhaseID_num']}\"\n",
    "        \n",
    "    elif row['PhaseID'] in block_phase:\n",
    "        if row['PhaseID_num'] == 0:\n",
    "            return 'block_phase'\n",
    "        else:\n",
    "            return f\"block_phase_{row['PhaseID_num']}\"\n",
    "        \n",
    "    elif row['PhaseID'] in flk_1_phase:\n",
    "        if row['PhaseID_num'] == 0:\n",
    "            return 'flk_1_phase'\n",
    "        else:\n",
    "            return f\"flk_1_phase_{row['PhaseID_num']}\"\n",
    "        \n",
    "    elif row['PhaseID'] in dublicate_search_phase:\n",
    "        if '_get' in row['PhaseID']:\n",
    "            if row['PhaseID_num'] == 0:\n",
    "                return 'dublicate_search_get_phase'\n",
    "            else:\n",
    "                return f\"dublicate_search_get_phase_{row['PhaseID_num']}\"\n",
    "        elif '_find_' in row['PhaseID']:\n",
    "            if row['PhaseID_num'] == 0:\n",
    "                return 'dublicate_search_find_phase'\n",
    "            else:\n",
    "                return f\"dublicate_search_find_phase_{row['PhaseID_num']}\"\n",
    "            \n",
    "    elif row['PhaseID'] in flk_2_phase:\n",
    "        if row['PhaseID_num'] == 0:\n",
    "            return 'flk_2_phase'\n",
    "        else:\n",
    "            return f\"flk_2_phase_{row['PhaseID_num']}\"\n",
    "        \n",
    "    elif row['PhaseID'] in saving_profile_phase:\n",
    "        if 'insert' in row['PhaseID']:\n",
    "            if row['PhaseID_num'] == 0:\n",
    "                return 'saving_profile_insert_phase'\n",
    "            else:\n",
    "                return f\"saving_profile_insert_phase_{row['PhaseID_num']}\"\n",
    "        elif 'update' in row['PhaseID']:\n",
    "            if row['PhaseID_num'] == 0:\n",
    "                return 'saving_profile_update_phase'\n",
    "            else:\n",
    "                return f\"saving_profile_update_phase_{row['PhaseID_num']}\"\n",
    "        \n",
    "    elif row['PhaseID'] in releasing_lock_phase:\n",
    "        if row['PhaseID_num'] == 0:\n",
    "            return 'releasing_lock_phase'\n",
    "        else:\n",
    "            return f\"releasing_lock_phase_{row['PhaseID_num']}\"\n"
   ]
  },
  {
   "cell_type": "code",
   "execution_count": 25,
   "metadata": {},
   "outputs": [],
   "source": [
    "report_copy_clean['Phase'] = report_copy_clean.apply(get_phase, axis=1)"
   ]
  },
  {
   "cell_type": "code",
   "execution_count": 26,
   "metadata": {},
   "outputs": [],
   "source": [
    "# сортировка датафрейма\n",
    "sorted_report = report_copy_clean.sort_values(by=['OperationID', 'Timestamp'])[['OperationID', 'PhaseID', 'Timestamp', 'Phase']]"
   ]
  },
  {
   "cell_type": "code",
   "execution_count": 27,
   "metadata": {},
   "outputs": [
    {
     "data": {
      "text/html": [
       "<div>\n",
       "<style scoped>\n",
       "    .dataframe tbody tr th:only-of-type {\n",
       "        vertical-align: middle;\n",
       "    }\n",
       "\n",
       "    .dataframe tbody tr th {\n",
       "        vertical-align: top;\n",
       "    }\n",
       "\n",
       "    .dataframe thead th {\n",
       "        text-align: right;\n",
       "    }\n",
       "</style>\n",
       "<table border=\"1\" class=\"dataframe\">\n",
       "  <thead>\n",
       "    <tr style=\"text-align: right;\">\n",
       "      <th></th>\n",
       "      <th>OperationID</th>\n",
       "      <th>PhaseID</th>\n",
       "      <th>Timestamp</th>\n",
       "      <th>Phase</th>\n",
       "    </tr>\n",
       "  </thead>\n",
       "  <tbody>\n",
       "    <tr>\n",
       "      <th>787588</th>\n",
       "      <td>000048ff-1ce7-42d1-bd50-64b540d75054</td>\n",
       "      <td>ESIA_message_profile_in</td>\n",
       "      <td>2025-07-08 06:02:07.183</td>\n",
       "      <td>initial_phase</td>\n",
       "    </tr>\n",
       "    <tr>\n",
       "      <th>787601</th>\n",
       "      <td>000048ff-1ce7-42d1-bd50-64b540d75054</td>\n",
       "      <td>lock_start</td>\n",
       "      <td>2025-07-08 06:02:07.227</td>\n",
       "      <td>block_phase</td>\n",
       "    </tr>\n",
       "    <tr>\n",
       "      <th>787603</th>\n",
       "      <td>000048ff-1ce7-42d1-bd50-64b540d75054</td>\n",
       "      <td>lock_end</td>\n",
       "      <td>2025-07-08 06:02:07.231</td>\n",
       "      <td>block_phase</td>\n",
       "    </tr>\n",
       "    <tr>\n",
       "      <th>787609</th>\n",
       "      <td>000048ff-1ce7-42d1-bd50-64b540d75054</td>\n",
       "      <td>stage_to_flk1</td>\n",
       "      <td>2025-07-08 06:02:07.246</td>\n",
       "      <td>flk_1_phase</td>\n",
       "    </tr>\n",
       "    <tr>\n",
       "      <th>787829</th>\n",
       "      <td>000048ff-1ce7-42d1-bd50-64b540d75054</td>\n",
       "      <td>stage_flk1</td>\n",
       "      <td>2025-07-08 06:02:07.760</td>\n",
       "      <td>flk_1_phase</td>\n",
       "    </tr>\n",
       "    <tr>\n",
       "      <th>787839</th>\n",
       "      <td>000048ff-1ce7-42d1-bd50-64b540d75054</td>\n",
       "      <td>stage_find_dublicate</td>\n",
       "      <td>2025-07-08 06:02:07.778</td>\n",
       "      <td>dublicate_search_find_phase</td>\n",
       "    </tr>\n",
       "    <tr>\n",
       "      <th>788037</th>\n",
       "      <td>000048ff-1ce7-42d1-bd50-64b540d75054</td>\n",
       "      <td>stage_ud_find_json</td>\n",
       "      <td>2025-07-08 06:02:08.635</td>\n",
       "      <td>dublicate_search_find_phase</td>\n",
       "    </tr>\n",
       "    <tr>\n",
       "      <th>788135</th>\n",
       "      <td>000048ff-1ce7-42d1-bd50-64b540d75054</td>\n",
       "      <td>stage_to_flk2</td>\n",
       "      <td>2025-07-08 06:02:08.764</td>\n",
       "      <td>flk_2_phase</td>\n",
       "    </tr>\n",
       "    <tr>\n",
       "      <th>788265</th>\n",
       "      <td>000048ff-1ce7-42d1-bd50-64b540d75054</td>\n",
       "      <td>stage_flk2</td>\n",
       "      <td>2025-07-08 06:02:08.938</td>\n",
       "      <td>flk_2_phase</td>\n",
       "    </tr>\n",
       "    <tr>\n",
       "      <th>788278</th>\n",
       "      <td>000048ff-1ce7-42d1-bd50-64b540d75054</td>\n",
       "      <td>stage_json_update</td>\n",
       "      <td>2025-07-08 06:02:08.979</td>\n",
       "      <td>saving_profile_update_phase</td>\n",
       "    </tr>\n",
       "  </tbody>\n",
       "</table>\n",
       "</div>"
      ],
      "text/plain": [
       "                                 OperationID                  PhaseID  \\\n",
       "787588  000048ff-1ce7-42d1-bd50-64b540d75054  ESIA_message_profile_in   \n",
       "787601  000048ff-1ce7-42d1-bd50-64b540d75054               lock_start   \n",
       "787603  000048ff-1ce7-42d1-bd50-64b540d75054                 lock_end   \n",
       "787609  000048ff-1ce7-42d1-bd50-64b540d75054            stage_to_flk1   \n",
       "787829  000048ff-1ce7-42d1-bd50-64b540d75054               stage_flk1   \n",
       "787839  000048ff-1ce7-42d1-bd50-64b540d75054     stage_find_dublicate   \n",
       "788037  000048ff-1ce7-42d1-bd50-64b540d75054       stage_ud_find_json   \n",
       "788135  000048ff-1ce7-42d1-bd50-64b540d75054            stage_to_flk2   \n",
       "788265  000048ff-1ce7-42d1-bd50-64b540d75054               stage_flk2   \n",
       "788278  000048ff-1ce7-42d1-bd50-64b540d75054        stage_json_update   \n",
       "\n",
       "                     Timestamp                        Phase  \n",
       "787588 2025-07-08 06:02:07.183                initial_phase  \n",
       "787601 2025-07-08 06:02:07.227                  block_phase  \n",
       "787603 2025-07-08 06:02:07.231                  block_phase  \n",
       "787609 2025-07-08 06:02:07.246                  flk_1_phase  \n",
       "787829 2025-07-08 06:02:07.760                  flk_1_phase  \n",
       "787839 2025-07-08 06:02:07.778  dublicate_search_find_phase  \n",
       "788037 2025-07-08 06:02:08.635  dublicate_search_find_phase  \n",
       "788135 2025-07-08 06:02:08.764                  flk_2_phase  \n",
       "788265 2025-07-08 06:02:08.938                  flk_2_phase  \n",
       "788278 2025-07-08 06:02:08.979  saving_profile_update_phase  "
      ]
     },
     "execution_count": 27,
     "metadata": {},
     "output_type": "execute_result"
    }
   ],
   "source": [
    "sorted_report.head(10)"
   ]
  },
  {
   "cell_type": "code",
   "execution_count": 28,
   "metadata": {},
   "outputs": [],
   "source": [
    "# Фильтруем в отдельный датасет окончание фазы поиска и начало фазы флк2 для рассчета фазы merge\n",
    "flk2_phase_df = sorted_report[(sorted_report['PhaseID'].apply(lambda x: x in 'stage_to_flk2'))]\n",
    "dubl_phase_df = sorted_report[sorted_report['PhaseID'].apply(lambda x: x in 'stage_ud_get_json' or x in 'stage_ud_find_json')]\n",
    "\n",
    "# Еще раз фильтруем последнюю фазу поиска и первую фазу флк2, если их у кого-то несколько\n",
    "flk2_phase_df = flk2_phase_df.groupby(['OperationID', 'PhaseID'], as_index=False).agg({'Timestamp':'min'})\n",
    "dubl_phase_df = dubl_phase_df.groupby(['OperationID', 'PhaseID'], as_index=False).agg({'Timestamp':'max'})"
   ]
  },
  {
   "cell_type": "code",
   "execution_count": 29,
   "metadata": {},
   "outputs": [],
   "source": [
    "# Соединяем эти данные\n",
    "merge_phase_df = pd.concat([flk2_phase_df, dubl_phase_df], axis=0, ignore_index=True)"
   ]
  },
  {
   "cell_type": "code",
   "execution_count": 30,
   "metadata": {},
   "outputs": [],
   "source": [
    "merge_phase_df['Phase'] = 'merge_phase'"
   ]
  },
  {
   "cell_type": "code",
   "execution_count": 31,
   "metadata": {},
   "outputs": [
    {
     "data": {
      "text/html": [
       "<div>\n",
       "<style scoped>\n",
       "    .dataframe tbody tr th:only-of-type {\n",
       "        vertical-align: middle;\n",
       "    }\n",
       "\n",
       "    .dataframe tbody tr th {\n",
       "        vertical-align: top;\n",
       "    }\n",
       "\n",
       "    .dataframe thead th {\n",
       "        text-align: right;\n",
       "    }\n",
       "</style>\n",
       "<table border=\"1\" class=\"dataframe\">\n",
       "  <thead>\n",
       "    <tr style=\"text-align: right;\">\n",
       "      <th></th>\n",
       "      <th>OperationID</th>\n",
       "      <th>PhaseID</th>\n",
       "      <th>Timestamp</th>\n",
       "      <th>Phase</th>\n",
       "    </tr>\n",
       "  </thead>\n",
       "  <tbody>\n",
       "    <tr>\n",
       "      <th>125877</th>\n",
       "      <td>000048ff-1ce7-42d1-bd50-64b540d75054</td>\n",
       "      <td>stage_ud_find_json</td>\n",
       "      <td>2025-07-08 06:02:08.635</td>\n",
       "      <td>merge_phase</td>\n",
       "    </tr>\n",
       "    <tr>\n",
       "      <th>0</th>\n",
       "      <td>000048ff-1ce7-42d1-bd50-64b540d75054</td>\n",
       "      <td>stage_to_flk2</td>\n",
       "      <td>2025-07-08 06:02:08.764</td>\n",
       "      <td>merge_phase</td>\n",
       "    </tr>\n",
       "    <tr>\n",
       "      <th>125878</th>\n",
       "      <td>0001b3a3-bfe7-475a-8af9-e7d48b61696d</td>\n",
       "      <td>stage_ud_find_json</td>\n",
       "      <td>2025-07-08 06:07:41.317</td>\n",
       "      <td>merge_phase</td>\n",
       "    </tr>\n",
       "    <tr>\n",
       "      <th>1</th>\n",
       "      <td>0001b3a3-bfe7-475a-8af9-e7d48b61696d</td>\n",
       "      <td>stage_to_flk2</td>\n",
       "      <td>2025-07-08 06:07:41.444</td>\n",
       "      <td>merge_phase</td>\n",
       "    </tr>\n",
       "    <tr>\n",
       "      <th>125879</th>\n",
       "      <td>00023160-aba4-41f1-aece-7af0bfbf0087</td>\n",
       "      <td>stage_ud_find_json</td>\n",
       "      <td>2025-07-08 06:29:29.315</td>\n",
       "      <td>merge_phase</td>\n",
       "    </tr>\n",
       "  </tbody>\n",
       "</table>\n",
       "</div>"
      ],
      "text/plain": [
       "                                 OperationID             PhaseID  \\\n",
       "125877  000048ff-1ce7-42d1-bd50-64b540d75054  stage_ud_find_json   \n",
       "0       000048ff-1ce7-42d1-bd50-64b540d75054       stage_to_flk2   \n",
       "125878  0001b3a3-bfe7-475a-8af9-e7d48b61696d  stage_ud_find_json   \n",
       "1       0001b3a3-bfe7-475a-8af9-e7d48b61696d       stage_to_flk2   \n",
       "125879  00023160-aba4-41f1-aece-7af0bfbf0087  stage_ud_find_json   \n",
       "\n",
       "                     Timestamp        Phase  \n",
       "125877 2025-07-08 06:02:08.635  merge_phase  \n",
       "0      2025-07-08 06:02:08.764  merge_phase  \n",
       "125878 2025-07-08 06:07:41.317  merge_phase  \n",
       "1      2025-07-08 06:07:41.444  merge_phase  \n",
       "125879 2025-07-08 06:29:29.315  merge_phase  "
      ]
     },
     "execution_count": 31,
     "metadata": {},
     "output_type": "execute_result"
    }
   ],
   "source": [
    "merge_phase_df = merge_phase_df.sort_values(by=['OperationID', 'Timestamp'])\n",
    "merge_phase_df.head()"
   ]
  },
  {
   "cell_type": "code",
   "execution_count": 32,
   "metadata": {},
   "outputs": [],
   "source": [
    "merge_phase_df['time_diff'] = merge_phase_df.groupby(['OperationID'])['Timestamp'].diff()"
   ]
  },
  {
   "cell_type": "code",
   "execution_count": 33,
   "metadata": {},
   "outputs": [],
   "source": [
    "merge_phase_df.dropna(inplace=True)"
   ]
  },
  {
   "cell_type": "code",
   "execution_count": 34,
   "metadata": {},
   "outputs": [],
   "source": [
    "sorted_report = pd.concat([sorted_report, merge_phase_df], ignore_index=True)"
   ]
  },
  {
   "cell_type": "code",
   "execution_count": 35,
   "metadata": {},
   "outputs": [],
   "source": [
    "# создаем столбец с разницей во времени между фазами. Входную и выходную фазу пока не учитываем\n",
    "sorted_report['time_diff'] = sorted_report.groupby(['OperationID', 'Phase'])['Timestamp'].diff()"
   ]
  },
  {
   "cell_type": "code",
   "execution_count": 36,
   "metadata": {},
   "outputs": [
    {
     "data": {
      "text/html": [
       "<div>\n",
       "<style scoped>\n",
       "    .dataframe tbody tr th:only-of-type {\n",
       "        vertical-align: middle;\n",
       "    }\n",
       "\n",
       "    .dataframe tbody tr th {\n",
       "        vertical-align: top;\n",
       "    }\n",
       "\n",
       "    .dataframe thead th {\n",
       "        text-align: right;\n",
       "    }\n",
       "</style>\n",
       "<table border=\"1\" class=\"dataframe\">\n",
       "  <thead>\n",
       "    <tr style=\"text-align: right;\">\n",
       "      <th></th>\n",
       "      <th>OperationID</th>\n",
       "      <th>PhaseID</th>\n",
       "      <th>Timestamp</th>\n",
       "      <th>Phase</th>\n",
       "      <th>time_diff</th>\n",
       "    </tr>\n",
       "  </thead>\n",
       "  <tbody>\n",
       "    <tr>\n",
       "      <th>0</th>\n",
       "      <td>000048ff-1ce7-42d1-bd50-64b540d75054</td>\n",
       "      <td>ESIA_message_profile_in</td>\n",
       "      <td>2025-07-08 06:02:07.183</td>\n",
       "      <td>initial_phase</td>\n",
       "      <td>NaT</td>\n",
       "    </tr>\n",
       "    <tr>\n",
       "      <th>1</th>\n",
       "      <td>000048ff-1ce7-42d1-bd50-64b540d75054</td>\n",
       "      <td>lock_start</td>\n",
       "      <td>2025-07-08 06:02:07.227</td>\n",
       "      <td>block_phase</td>\n",
       "      <td>NaT</td>\n",
       "    </tr>\n",
       "    <tr>\n",
       "      <th>2</th>\n",
       "      <td>000048ff-1ce7-42d1-bd50-64b540d75054</td>\n",
       "      <td>lock_end</td>\n",
       "      <td>2025-07-08 06:02:07.231</td>\n",
       "      <td>block_phase</td>\n",
       "      <td>0 days 00:00:00.004000</td>\n",
       "    </tr>\n",
       "    <tr>\n",
       "      <th>3</th>\n",
       "      <td>000048ff-1ce7-42d1-bd50-64b540d75054</td>\n",
       "      <td>stage_to_flk1</td>\n",
       "      <td>2025-07-08 06:02:07.246</td>\n",
       "      <td>flk_1_phase</td>\n",
       "      <td>NaT</td>\n",
       "    </tr>\n",
       "    <tr>\n",
       "      <th>4</th>\n",
       "      <td>000048ff-1ce7-42d1-bd50-64b540d75054</td>\n",
       "      <td>stage_flk1</td>\n",
       "      <td>2025-07-08 06:02:07.760</td>\n",
       "      <td>flk_1_phase</td>\n",
       "      <td>0 days 00:00:00.514000</td>\n",
       "    </tr>\n",
       "  </tbody>\n",
       "</table>\n",
       "</div>"
      ],
      "text/plain": [
       "                            OperationID                  PhaseID  \\\n",
       "0  000048ff-1ce7-42d1-bd50-64b540d75054  ESIA_message_profile_in   \n",
       "1  000048ff-1ce7-42d1-bd50-64b540d75054               lock_start   \n",
       "2  000048ff-1ce7-42d1-bd50-64b540d75054                 lock_end   \n",
       "3  000048ff-1ce7-42d1-bd50-64b540d75054            stage_to_flk1   \n",
       "4  000048ff-1ce7-42d1-bd50-64b540d75054               stage_flk1   \n",
       "\n",
       "                Timestamp          Phase              time_diff  \n",
       "0 2025-07-08 06:02:07.183  initial_phase                    NaT  \n",
       "1 2025-07-08 06:02:07.227    block_phase                    NaT  \n",
       "2 2025-07-08 06:02:07.231    block_phase 0 days 00:00:00.004000  \n",
       "3 2025-07-08 06:02:07.246    flk_1_phase                    NaT  \n",
       "4 2025-07-08 06:02:07.760    flk_1_phase 0 days 00:00:00.514000  "
      ]
     },
     "execution_count": 36,
     "metadata": {},
     "output_type": "execute_result"
    }
   ],
   "source": [
    "sorted_report.head()"
   ]
  },
  {
   "cell_type": "code",
   "execution_count": 37,
   "metadata": {},
   "outputs": [],
   "source": [
    "# отдельно добавляем в time_diff дату начала и дату конца обработки профиля\n",
    "sorted_report['time_diff'] = np.where((sorted_report['Phase'] == 'initial_phase') | (sorted_report['Phase'] == 'ending_phase'), \n",
    "                                     sorted_report['Timestamp'],\n",
    "                                     sorted_report['time_diff'])"
   ]
  },
  {
   "cell_type": "code",
   "execution_count": 38,
   "metadata": {},
   "outputs": [],
   "source": [
    "# удалим дубликаты названий фаз\n",
    "report_for_pivot = sorted_report.dropna(subset=['time_diff']).reset_index()"
   ]
  },
  {
   "cell_type": "code",
   "execution_count": 39,
   "metadata": {},
   "outputs": [
    {
     "data": {
      "text/plain": [
       "index          0\n",
       "OperationID    0\n",
       "PhaseID        0\n",
       "Timestamp      0\n",
       "Phase          0\n",
       "time_diff      0\n",
       "dtype: int64"
      ]
     },
     "execution_count": 39,
     "metadata": {},
     "output_type": "execute_result"
    }
   ],
   "source": [
    "report_for_pivot.isna().sum()"
   ]
  },
  {
   "cell_type": "code",
   "execution_count": 40,
   "metadata": {},
   "outputs": [],
   "source": [
    "# сводная таблица\n",
    "report_pivot = sorted_report \\\n",
    "              .dropna(subset=['time_diff']) \\\n",
    "              .reset_index() \\\n",
    "              .pivot(index='OperationID', columns='Phase', values='time_diff')"
   ]
  },
  {
   "cell_type": "code",
   "execution_count": 41,
   "metadata": {},
   "outputs": [],
   "source": [
    "# ищем полное время обработки профиля по тз\n",
    "report_pivot['total_time'] = report_pivot['ending_phase'] - report_pivot['initial_phase']"
   ]
  },
  {
   "cell_type": "code",
   "execution_count": 42,
   "metadata": {},
   "outputs": [
    {
     "data": {
      "text/html": [
       "<div>\n",
       "<style scoped>\n",
       "    .dataframe tbody tr th:only-of-type {\n",
       "        vertical-align: middle;\n",
       "    }\n",
       "\n",
       "    .dataframe tbody tr th {\n",
       "        vertical-align: top;\n",
       "    }\n",
       "\n",
       "    .dataframe thead th {\n",
       "        text-align: right;\n",
       "    }\n",
       "</style>\n",
       "<table border=\"1\" class=\"dataframe\">\n",
       "  <thead>\n",
       "    <tr style=\"text-align: right;\">\n",
       "      <th>Phase</th>\n",
       "      <th>block_phase</th>\n",
       "      <th>block_phase_1</th>\n",
       "      <th>block_phase_2</th>\n",
       "      <th>block_phase_3</th>\n",
       "      <th>block_phase_4</th>\n",
       "      <th>block_phase_5</th>\n",
       "      <th>block_phase_6</th>\n",
       "      <th>dublicate_search_find_phase</th>\n",
       "      <th>dublicate_search_find_phase_1</th>\n",
       "      <th>dublicate_search_find_phase_2</th>\n",
       "      <th>...</th>\n",
       "      <th>flk_2_phase_8</th>\n",
       "      <th>initial_phase</th>\n",
       "      <th>merge_phase</th>\n",
       "      <th>releasing_lock_phase</th>\n",
       "      <th>releasing_lock_phase_1</th>\n",
       "      <th>saving_profile_insert_phase</th>\n",
       "      <th>saving_profile_insert_phase_1</th>\n",
       "      <th>saving_profile_update_phase</th>\n",
       "      <th>saving_profile_update_phase_1</th>\n",
       "      <th>total_time</th>\n",
       "    </tr>\n",
       "    <tr>\n",
       "      <th>OperationID</th>\n",
       "      <th></th>\n",
       "      <th></th>\n",
       "      <th></th>\n",
       "      <th></th>\n",
       "      <th></th>\n",
       "      <th></th>\n",
       "      <th></th>\n",
       "      <th></th>\n",
       "      <th></th>\n",
       "      <th></th>\n",
       "      <th></th>\n",
       "      <th></th>\n",
       "      <th></th>\n",
       "      <th></th>\n",
       "      <th></th>\n",
       "      <th></th>\n",
       "      <th></th>\n",
       "      <th></th>\n",
       "      <th></th>\n",
       "      <th></th>\n",
       "      <th></th>\n",
       "    </tr>\n",
       "  </thead>\n",
       "  <tbody>\n",
       "    <tr>\n",
       "      <th>000048ff-1ce7-42d1-bd50-64b540d75054</th>\n",
       "      <td>1970-01-01 00:00:00.004</td>\n",
       "      <td>NaT</td>\n",
       "      <td>NaT</td>\n",
       "      <td>NaT</td>\n",
       "      <td>NaT</td>\n",
       "      <td>NaT</td>\n",
       "      <td>NaT</td>\n",
       "      <td>1970-01-01 00:00:00.857</td>\n",
       "      <td>NaT</td>\n",
       "      <td>NaT</td>\n",
       "      <td>...</td>\n",
       "      <td>NaT</td>\n",
       "      <td>2025-07-08 06:02:07.183</td>\n",
       "      <td>NaT</td>\n",
       "      <td>1970-01-01 00:00:00.005</td>\n",
       "      <td>NaT</td>\n",
       "      <td>NaT</td>\n",
       "      <td>NaT</td>\n",
       "      <td>1970-01-01 00:00:03.218</td>\n",
       "      <td>NaT</td>\n",
       "      <td>0 days 00:00:05.064000</td>\n",
       "    </tr>\n",
       "    <tr>\n",
       "      <th>0001b3a3-bfe7-475a-8af9-e7d48b61696d</th>\n",
       "      <td>1970-01-01 00:00:00.005</td>\n",
       "      <td>NaT</td>\n",
       "      <td>NaT</td>\n",
       "      <td>NaT</td>\n",
       "      <td>NaT</td>\n",
       "      <td>NaT</td>\n",
       "      <td>NaT</td>\n",
       "      <td>1970-01-01 00:00:00.303</td>\n",
       "      <td>NaT</td>\n",
       "      <td>NaT</td>\n",
       "      <td>...</td>\n",
       "      <td>NaT</td>\n",
       "      <td>2025-07-08 06:07:40.491</td>\n",
       "      <td>NaT</td>\n",
       "      <td>1970-01-01 00:00:00.005</td>\n",
       "      <td>NaT</td>\n",
       "      <td>1970-01-01 00:00:08.107</td>\n",
       "      <td>NaT</td>\n",
       "      <td>NaT</td>\n",
       "      <td>NaT</td>\n",
       "      <td>0 days 00:00:09.208000</td>\n",
       "    </tr>\n",
       "    <tr>\n",
       "      <th>0001f0bd-2cfd-41f1-a77c-ca04b2ac482e</th>\n",
       "      <td>1970-01-01 00:00:00.004</td>\n",
       "      <td>NaT</td>\n",
       "      <td>NaT</td>\n",
       "      <td>NaT</td>\n",
       "      <td>NaT</td>\n",
       "      <td>NaT</td>\n",
       "      <td>NaT</td>\n",
       "      <td>NaT</td>\n",
       "      <td>NaT</td>\n",
       "      <td>NaT</td>\n",
       "      <td>...</td>\n",
       "      <td>NaT</td>\n",
       "      <td>2025-07-08 05:41:44.824</td>\n",
       "      <td>NaT</td>\n",
       "      <td>1970-01-01 00:00:00.005</td>\n",
       "      <td>NaT</td>\n",
       "      <td>NaT</td>\n",
       "      <td>NaT</td>\n",
       "      <td>NaT</td>\n",
       "      <td>NaT</td>\n",
       "      <td>0 days 00:00:00.285000</td>\n",
       "    </tr>\n",
       "    <tr>\n",
       "      <th>00023160-aba4-41f1-aece-7af0bfbf0087</th>\n",
       "      <td>1970-01-01 00:00:00.005</td>\n",
       "      <td>NaT</td>\n",
       "      <td>NaT</td>\n",
       "      <td>NaT</td>\n",
       "      <td>NaT</td>\n",
       "      <td>NaT</td>\n",
       "      <td>NaT</td>\n",
       "      <td>1970-01-01 00:00:00.048</td>\n",
       "      <td>1970-01-01 00:00:00.045</td>\n",
       "      <td>NaT</td>\n",
       "      <td>...</td>\n",
       "      <td>NaT</td>\n",
       "      <td>2025-07-08 06:29:28.626</td>\n",
       "      <td>NaT</td>\n",
       "      <td>1970-01-01 00:00:00.004</td>\n",
       "      <td>NaT</td>\n",
       "      <td>1970-01-01 00:00:02.883</td>\n",
       "      <td>NaT</td>\n",
       "      <td>NaT</td>\n",
       "      <td>NaT</td>\n",
       "      <td>0 days 00:00:03.974000</td>\n",
       "    </tr>\n",
       "    <tr>\n",
       "      <th>000280b8-7d81-4c14-a5d1-c925bbdd234b</th>\n",
       "      <td>1970-01-01 00:00:00.004</td>\n",
       "      <td>NaT</td>\n",
       "      <td>NaT</td>\n",
       "      <td>NaT</td>\n",
       "      <td>NaT</td>\n",
       "      <td>NaT</td>\n",
       "      <td>NaT</td>\n",
       "      <td>NaT</td>\n",
       "      <td>NaT</td>\n",
       "      <td>NaT</td>\n",
       "      <td>...</td>\n",
       "      <td>NaT</td>\n",
       "      <td>2025-07-08 07:02:24.475</td>\n",
       "      <td>NaT</td>\n",
       "      <td>1970-01-01 00:00:00.005</td>\n",
       "      <td>NaT</td>\n",
       "      <td>NaT</td>\n",
       "      <td>NaT</td>\n",
       "      <td>1970-01-01 00:00:03.459</td>\n",
       "      <td>NaT</td>\n",
       "      <td>0 days 00:00:06.929000</td>\n",
       "    </tr>\n",
       "  </tbody>\n",
       "</table>\n",
       "<p>5 rows × 41 columns</p>\n",
       "</div>"
      ],
      "text/plain": [
       "Phase                                            block_phase block_phase_1  \\\n",
       "OperationID                                                                  \n",
       "000048ff-1ce7-42d1-bd50-64b540d75054 1970-01-01 00:00:00.004           NaT   \n",
       "0001b3a3-bfe7-475a-8af9-e7d48b61696d 1970-01-01 00:00:00.005           NaT   \n",
       "0001f0bd-2cfd-41f1-a77c-ca04b2ac482e 1970-01-01 00:00:00.004           NaT   \n",
       "00023160-aba4-41f1-aece-7af0bfbf0087 1970-01-01 00:00:00.005           NaT   \n",
       "000280b8-7d81-4c14-a5d1-c925bbdd234b 1970-01-01 00:00:00.004           NaT   \n",
       "\n",
       "Phase                                block_phase_2 block_phase_3  \\\n",
       "OperationID                                                        \n",
       "000048ff-1ce7-42d1-bd50-64b540d75054           NaT           NaT   \n",
       "0001b3a3-bfe7-475a-8af9-e7d48b61696d           NaT           NaT   \n",
       "0001f0bd-2cfd-41f1-a77c-ca04b2ac482e           NaT           NaT   \n",
       "00023160-aba4-41f1-aece-7af0bfbf0087           NaT           NaT   \n",
       "000280b8-7d81-4c14-a5d1-c925bbdd234b           NaT           NaT   \n",
       "\n",
       "Phase                                block_phase_4 block_phase_5  \\\n",
       "OperationID                                                        \n",
       "000048ff-1ce7-42d1-bd50-64b540d75054           NaT           NaT   \n",
       "0001b3a3-bfe7-475a-8af9-e7d48b61696d           NaT           NaT   \n",
       "0001f0bd-2cfd-41f1-a77c-ca04b2ac482e           NaT           NaT   \n",
       "00023160-aba4-41f1-aece-7af0bfbf0087           NaT           NaT   \n",
       "000280b8-7d81-4c14-a5d1-c925bbdd234b           NaT           NaT   \n",
       "\n",
       "Phase                                block_phase_6  \\\n",
       "OperationID                                          \n",
       "000048ff-1ce7-42d1-bd50-64b540d75054           NaT   \n",
       "0001b3a3-bfe7-475a-8af9-e7d48b61696d           NaT   \n",
       "0001f0bd-2cfd-41f1-a77c-ca04b2ac482e           NaT   \n",
       "00023160-aba4-41f1-aece-7af0bfbf0087           NaT   \n",
       "000280b8-7d81-4c14-a5d1-c925bbdd234b           NaT   \n",
       "\n",
       "Phase                                dublicate_search_find_phase  \\\n",
       "OperationID                                                        \n",
       "000048ff-1ce7-42d1-bd50-64b540d75054     1970-01-01 00:00:00.857   \n",
       "0001b3a3-bfe7-475a-8af9-e7d48b61696d     1970-01-01 00:00:00.303   \n",
       "0001f0bd-2cfd-41f1-a77c-ca04b2ac482e                         NaT   \n",
       "00023160-aba4-41f1-aece-7af0bfbf0087     1970-01-01 00:00:00.048   \n",
       "000280b8-7d81-4c14-a5d1-c925bbdd234b                         NaT   \n",
       "\n",
       "Phase                                dublicate_search_find_phase_1  \\\n",
       "OperationID                                                          \n",
       "000048ff-1ce7-42d1-bd50-64b540d75054                           NaT   \n",
       "0001b3a3-bfe7-475a-8af9-e7d48b61696d                           NaT   \n",
       "0001f0bd-2cfd-41f1-a77c-ca04b2ac482e                           NaT   \n",
       "00023160-aba4-41f1-aece-7af0bfbf0087       1970-01-01 00:00:00.045   \n",
       "000280b8-7d81-4c14-a5d1-c925bbdd234b                           NaT   \n",
       "\n",
       "Phase                                dublicate_search_find_phase_2  ...  \\\n",
       "OperationID                                                         ...   \n",
       "000048ff-1ce7-42d1-bd50-64b540d75054                           NaT  ...   \n",
       "0001b3a3-bfe7-475a-8af9-e7d48b61696d                           NaT  ...   \n",
       "0001f0bd-2cfd-41f1-a77c-ca04b2ac482e                           NaT  ...   \n",
       "00023160-aba4-41f1-aece-7af0bfbf0087                           NaT  ...   \n",
       "000280b8-7d81-4c14-a5d1-c925bbdd234b                           NaT  ...   \n",
       "\n",
       "Phase                                flk_2_phase_8           initial_phase  \\\n",
       "OperationID                                                                  \n",
       "000048ff-1ce7-42d1-bd50-64b540d75054           NaT 2025-07-08 06:02:07.183   \n",
       "0001b3a3-bfe7-475a-8af9-e7d48b61696d           NaT 2025-07-08 06:07:40.491   \n",
       "0001f0bd-2cfd-41f1-a77c-ca04b2ac482e           NaT 2025-07-08 05:41:44.824   \n",
       "00023160-aba4-41f1-aece-7af0bfbf0087           NaT 2025-07-08 06:29:28.626   \n",
       "000280b8-7d81-4c14-a5d1-c925bbdd234b           NaT 2025-07-08 07:02:24.475   \n",
       "\n",
       "Phase                                merge_phase    releasing_lock_phase  \\\n",
       "OperationID                                                                \n",
       "000048ff-1ce7-42d1-bd50-64b540d75054         NaT 1970-01-01 00:00:00.005   \n",
       "0001b3a3-bfe7-475a-8af9-e7d48b61696d         NaT 1970-01-01 00:00:00.005   \n",
       "0001f0bd-2cfd-41f1-a77c-ca04b2ac482e         NaT 1970-01-01 00:00:00.005   \n",
       "00023160-aba4-41f1-aece-7af0bfbf0087         NaT 1970-01-01 00:00:00.004   \n",
       "000280b8-7d81-4c14-a5d1-c925bbdd234b         NaT 1970-01-01 00:00:00.005   \n",
       "\n",
       "Phase                                releasing_lock_phase_1  \\\n",
       "OperationID                                                   \n",
       "000048ff-1ce7-42d1-bd50-64b540d75054                    NaT   \n",
       "0001b3a3-bfe7-475a-8af9-e7d48b61696d                    NaT   \n",
       "0001f0bd-2cfd-41f1-a77c-ca04b2ac482e                    NaT   \n",
       "00023160-aba4-41f1-aece-7af0bfbf0087                    NaT   \n",
       "000280b8-7d81-4c14-a5d1-c925bbdd234b                    NaT   \n",
       "\n",
       "Phase                                saving_profile_insert_phase  \\\n",
       "OperationID                                                        \n",
       "000048ff-1ce7-42d1-bd50-64b540d75054                         NaT   \n",
       "0001b3a3-bfe7-475a-8af9-e7d48b61696d     1970-01-01 00:00:08.107   \n",
       "0001f0bd-2cfd-41f1-a77c-ca04b2ac482e                         NaT   \n",
       "00023160-aba4-41f1-aece-7af0bfbf0087     1970-01-01 00:00:02.883   \n",
       "000280b8-7d81-4c14-a5d1-c925bbdd234b                         NaT   \n",
       "\n",
       "Phase                                saving_profile_insert_phase_1  \\\n",
       "OperationID                                                          \n",
       "000048ff-1ce7-42d1-bd50-64b540d75054                           NaT   \n",
       "0001b3a3-bfe7-475a-8af9-e7d48b61696d                           NaT   \n",
       "0001f0bd-2cfd-41f1-a77c-ca04b2ac482e                           NaT   \n",
       "00023160-aba4-41f1-aece-7af0bfbf0087                           NaT   \n",
       "000280b8-7d81-4c14-a5d1-c925bbdd234b                           NaT   \n",
       "\n",
       "Phase                                saving_profile_update_phase  \\\n",
       "OperationID                                                        \n",
       "000048ff-1ce7-42d1-bd50-64b540d75054     1970-01-01 00:00:03.218   \n",
       "0001b3a3-bfe7-475a-8af9-e7d48b61696d                         NaT   \n",
       "0001f0bd-2cfd-41f1-a77c-ca04b2ac482e                         NaT   \n",
       "00023160-aba4-41f1-aece-7af0bfbf0087                         NaT   \n",
       "000280b8-7d81-4c14-a5d1-c925bbdd234b     1970-01-01 00:00:03.459   \n",
       "\n",
       "Phase                                saving_profile_update_phase_1  \\\n",
       "OperationID                                                          \n",
       "000048ff-1ce7-42d1-bd50-64b540d75054                           NaT   \n",
       "0001b3a3-bfe7-475a-8af9-e7d48b61696d                           NaT   \n",
       "0001f0bd-2cfd-41f1-a77c-ca04b2ac482e                           NaT   \n",
       "00023160-aba4-41f1-aece-7af0bfbf0087                           NaT   \n",
       "000280b8-7d81-4c14-a5d1-c925bbdd234b                           NaT   \n",
       "\n",
       "Phase                                            total_time  \n",
       "OperationID                                                  \n",
       "000048ff-1ce7-42d1-bd50-64b540d75054 0 days 00:00:05.064000  \n",
       "0001b3a3-bfe7-475a-8af9-e7d48b61696d 0 days 00:00:09.208000  \n",
       "0001f0bd-2cfd-41f1-a77c-ca04b2ac482e 0 days 00:00:00.285000  \n",
       "00023160-aba4-41f1-aece-7af0bfbf0087 0 days 00:00:03.974000  \n",
       "000280b8-7d81-4c14-a5d1-c925bbdd234b 0 days 00:00:06.929000  \n",
       "\n",
       "[5 rows x 41 columns]"
      ]
     },
     "execution_count": 42,
     "metadata": {},
     "output_type": "execute_result"
    }
   ],
   "source": [
    "report_pivot.head(5)"
   ]
  },
  {
   "cell_type": "code",
   "execution_count": 43,
   "metadata": {
    "scrolled": true
   },
   "outputs": [],
   "source": [
    "#переводим все колонки в тип timedelta\n",
    "for col in report_pivot.columns:\n",
    "    if report_pivot[col].dtypes != 'timedelta64[ns]':\n",
    "        report_pivot[col] = report_pivot[col] - pd.Timestamp('1970-01-01')\n",
    "\n",
    "#столбцы с временем начальной и конечной фазы больше не нужны\n",
    "report_pivot = report_pivot.drop(columns=['ending_phase', 'initial_phase'])"
   ]
  },
  {
   "cell_type": "code",
   "execution_count": 44,
   "metadata": {},
   "outputs": [],
   "source": [
    "# считаем количество секунд\n",
    "for col in report_pivot.columns:\n",
    "    report_pivot[col] = report_pivot[col].dt.total_seconds()"
   ]
  },
  {
   "cell_type": "code",
   "execution_count": 45,
   "metadata": {},
   "outputs": [],
   "source": [
    "report_pivot_copy = report_pivot.reset_index()"
   ]
  },
  {
   "cell_type": "code",
   "execution_count": 46,
   "metadata": {},
   "outputs": [],
   "source": [
    "# создадим столбец с типом обработки: . **NoSave** — неполная обработка: только ФЛК1 и Поиски **ToUDEnd** — полная обработка: все этапы.\n",
    "def get_processing_type(row):\n",
    "     if (pd.notna(row['flk_2_phase']) and \n",
    "        (pd.notna(row['saving_profile_insert_phase']) or pd.notna(row['saving_profile_update_phase'])) and \n",
    "         pd.notna(row['releasing_lock_phase'])):\n",
    "        return 'ToUDEnd'\n",
    "     else:\n",
    "        return 'NoSave'"
   ]
  },
  {
   "cell_type": "code",
   "execution_count": 47,
   "metadata": {},
   "outputs": [],
   "source": [
    "report_pivot_copy['processing_type'] = report_pivot_copy.apply(get_processing_type, axis=1)"
   ]
  },
  {
   "cell_type": "markdown",
   "metadata": {},
   "source": [
    "## Форматирование выходного CSV"
   ]
  },
  {
   "cell_type": "code",
   "execution_count": 48,
   "metadata": {},
   "outputs": [],
   "source": [
    "# Преобразование широкой таблицы обратно в длинную\n",
    "long_report = report_pivot_copy.melt(id_vars=['OperationID', 'processing_type'], value_name='Phase_time')\n",
    "\n",
    "long_report_sort = long_report.dropna().reset_index(drop=True).sort_values(by=['OperationID', 'Phase'])\n"
   ]
  },
  {
   "cell_type": "markdown",
   "metadata": {},
   "source": [
    "Убираем постфиксы у фаз, они больше не нужны"
   ]
  },
  {
   "cell_type": "code",
   "execution_count": 49,
   "metadata": {},
   "outputs": [],
   "source": [
    "def new_phase_name(row):\n",
    "    if row['Phase'].startswith('block'):\n",
    "        return 'block_phase'\n",
    "    elif row['Phase'].startswith('flk_1'):\n",
    "        return 'flk_1_phase'\n",
    "    elif row['Phase'].startswith('flk_2'):\n",
    "        return 'flk_2_phase'\n",
    "    elif row['Phase'].startswith('dublicate_search_find'):\n",
    "        return 'dublicate_search_find_phase'\n",
    "    elif row['Phase'].startswith('dublicate_search_get'):\n",
    "        return 'dublicate_search_get_phase'\n",
    "    elif row['Phase'].startswith('saving_profile_insert'):\n",
    "        return 'saving_profile_insert_phase'\n",
    "    elif row['Phase'].startswith('saving_profile_update'):\n",
    "        return 'saving_profile_update_phase'\n",
    "    elif row['Phase'].startswith('releasing_lock'):\n",
    "        return 'releasing_lock_phase'\n",
    "    elif row['Phase'] == 'merge_phase':\n",
    "        return row['Phase']\n",
    "    elif row['Phase'] == 'total_time':\n",
    "        return row['Phase']"
   ]
  },
  {
   "cell_type": "code",
   "execution_count": 50,
   "metadata": {},
   "outputs": [],
   "source": [
    "long_report_sort['Phase'] = long_report_sort.apply(new_phase_name, axis=1)"
   ]
  },
  {
   "cell_type": "markdown",
   "metadata": {},
   "source": [
    "Теперь добавим следующую информацию: название стартовой фазы, название конечной фазы, код ошибки"
   ]
  },
  {
   "cell_type": "code",
   "execution_count": 51,
   "metadata": {},
   "outputs": [],
   "source": [
    "names_of_initial_phase = report_copy_clean.query('Phase == \"initial_phase\"')[['OperationID', 'PhaseID']]\n",
    "names_of_ending_phase = report_copy_clean.query('Phase == \"ending_phase\"')[['OperationID', 'PhaseID']]"
   ]
  },
  {
   "cell_type": "code",
   "execution_count": 52,
   "metadata": {},
   "outputs": [],
   "source": [
    "# Добавляем в основной csv названия начальной и конечной фазы\n",
    "long_report = pd.merge(long_report_sort, names_of_initial_phase, on='OperationID')\n",
    "long_report = pd.merge(long_report, names_of_ending_phase, on='OperationID')"
   ]
  },
  {
   "cell_type": "code",
   "execution_count": 53,
   "metadata": {},
   "outputs": [],
   "source": [
    "long_report.rename(columns=({'PhaseID_x':'Name_of_initial_phase', 'PhaseID_y':'Name_of_ending_phase'}), inplace=True)"
   ]
  },
  {
   "cell_type": "code",
   "execution_count": 54,
   "metadata": {},
   "outputs": [],
   "source": [
    "# Добавляем в основной csv коды ошибок: 0 - без ошибок, 2 - валидация после _out, профили с ошибкой 1 собраны в отдельный фрейм\n",
    "long_report['error_code'] = long_report['OperationID'].apply(lambda x: 2 if x in operation_id_error_2 else 0)"
   ]
  },
  {
   "cell_type": "code",
   "execution_count": 55,
   "metadata": {},
   "outputs": [
    {
     "data": {
      "text/html": [
       "<div>\n",
       "<style scoped>\n",
       "    .dataframe tbody tr th:only-of-type {\n",
       "        vertical-align: middle;\n",
       "    }\n",
       "\n",
       "    .dataframe tbody tr th {\n",
       "        vertical-align: top;\n",
       "    }\n",
       "\n",
       "    .dataframe thead th {\n",
       "        text-align: right;\n",
       "    }\n",
       "</style>\n",
       "<table border=\"1\" class=\"dataframe\">\n",
       "  <thead>\n",
       "    <tr style=\"text-align: right;\">\n",
       "      <th></th>\n",
       "      <th>OperationID</th>\n",
       "      <th>processing_type</th>\n",
       "      <th>Phase</th>\n",
       "      <th>Phase_time</th>\n",
       "      <th>Name_of_initial_phase</th>\n",
       "      <th>Name_of_ending_phase</th>\n",
       "      <th>error_code</th>\n",
       "    </tr>\n",
       "  </thead>\n",
       "  <tbody>\n",
       "    <tr>\n",
       "      <th>0</th>\n",
       "      <td>000048ff-1ce7-42d1-bd50-64b540d75054</td>\n",
       "      <td>ToUDEnd</td>\n",
       "      <td>block_phase</td>\n",
       "      <td>0.004</td>\n",
       "      <td>ESIA_message_profile_in</td>\n",
       "      <td>ESIA_message_profile_out</td>\n",
       "      <td>0</td>\n",
       "    </tr>\n",
       "    <tr>\n",
       "      <th>1</th>\n",
       "      <td>000048ff-1ce7-42d1-bd50-64b540d75054</td>\n",
       "      <td>ToUDEnd</td>\n",
       "      <td>dublicate_search_find_phase</td>\n",
       "      <td>0.857</td>\n",
       "      <td>ESIA_message_profile_in</td>\n",
       "      <td>ESIA_message_profile_out</td>\n",
       "      <td>0</td>\n",
       "    </tr>\n",
       "    <tr>\n",
       "      <th>2</th>\n",
       "      <td>000048ff-1ce7-42d1-bd50-64b540d75054</td>\n",
       "      <td>ToUDEnd</td>\n",
       "      <td>flk_1_phase</td>\n",
       "      <td>0.514</td>\n",
       "      <td>ESIA_message_profile_in</td>\n",
       "      <td>ESIA_message_profile_out</td>\n",
       "      <td>0</td>\n",
       "    </tr>\n",
       "    <tr>\n",
       "      <th>3</th>\n",
       "      <td>000048ff-1ce7-42d1-bd50-64b540d75054</td>\n",
       "      <td>ToUDEnd</td>\n",
       "      <td>flk_2_phase</td>\n",
       "      <td>0.174</td>\n",
       "      <td>ESIA_message_profile_in</td>\n",
       "      <td>ESIA_message_profile_out</td>\n",
       "      <td>0</td>\n",
       "    </tr>\n",
       "    <tr>\n",
       "      <th>4</th>\n",
       "      <td>000048ff-1ce7-42d1-bd50-64b540d75054</td>\n",
       "      <td>ToUDEnd</td>\n",
       "      <td>releasing_lock_phase</td>\n",
       "      <td>0.005</td>\n",
       "      <td>ESIA_message_profile_in</td>\n",
       "      <td>ESIA_message_profile_out</td>\n",
       "      <td>0</td>\n",
       "    </tr>\n",
       "  </tbody>\n",
       "</table>\n",
       "</div>"
      ],
      "text/plain": [
       "                            OperationID processing_type  \\\n",
       "0  000048ff-1ce7-42d1-bd50-64b540d75054         ToUDEnd   \n",
       "1  000048ff-1ce7-42d1-bd50-64b540d75054         ToUDEnd   \n",
       "2  000048ff-1ce7-42d1-bd50-64b540d75054         ToUDEnd   \n",
       "3  000048ff-1ce7-42d1-bd50-64b540d75054         ToUDEnd   \n",
       "4  000048ff-1ce7-42d1-bd50-64b540d75054         ToUDEnd   \n",
       "\n",
       "                         Phase  Phase_time    Name_of_initial_phase  \\\n",
       "0                  block_phase       0.004  ESIA_message_profile_in   \n",
       "1  dublicate_search_find_phase       0.857  ESIA_message_profile_in   \n",
       "2                  flk_1_phase       0.514  ESIA_message_profile_in   \n",
       "3                  flk_2_phase       0.174  ESIA_message_profile_in   \n",
       "4         releasing_lock_phase       0.005  ESIA_message_profile_in   \n",
       "\n",
       "       Name_of_ending_phase  error_code  \n",
       "0  ESIA_message_profile_out           0  \n",
       "1  ESIA_message_profile_out           0  \n",
       "2  ESIA_message_profile_out           0  \n",
       "3  ESIA_message_profile_out           0  \n",
       "4  ESIA_message_profile_out           0  "
      ]
     },
     "execution_count": 55,
     "metadata": {},
     "output_type": "execute_result"
    }
   ],
   "source": [
    "long_report.head()"
   ]
  },
  {
   "cell_type": "code",
   "execution_count": 56,
   "metadata": {},
   "outputs": [],
   "source": [
    "output_report = long_report.copy()"
   ]
  },
  {
   "cell_type": "markdown",
   "metadata": {},
   "source": [
    "## Сохранение выходного CSV-отчета"
   ]
  },
  {
   "cell_type": "code",
   "execution_count": 57,
   "metadata": {},
   "outputs": [],
   "source": [
    "output_report.to_csv('Output_report.csv', index=False, sep=';')"
   ]
  },
  {
   "cell_type": "code",
   "execution_count": 58,
   "metadata": {},
   "outputs": [
    {
     "data": {
      "text/html": [
       "<div>\n",
       "<style scoped>\n",
       "    .dataframe tbody tr th:only-of-type {\n",
       "        vertical-align: middle;\n",
       "    }\n",
       "\n",
       "    .dataframe tbody tr th {\n",
       "        vertical-align: top;\n",
       "    }\n",
       "\n",
       "    .dataframe thead th {\n",
       "        text-align: right;\n",
       "    }\n",
       "</style>\n",
       "<table border=\"1\" class=\"dataframe\">\n",
       "  <thead>\n",
       "    <tr style=\"text-align: right;\">\n",
       "      <th></th>\n",
       "      <th>OperationID</th>\n",
       "      <th>processing_type</th>\n",
       "      <th>Phase</th>\n",
       "      <th>Phase_time</th>\n",
       "      <th>Name_of_initial_phase</th>\n",
       "      <th>Name_of_ending_phase</th>\n",
       "      <th>error_code</th>\n",
       "    </tr>\n",
       "  </thead>\n",
       "  <tbody>\n",
       "    <tr>\n",
       "      <th>0</th>\n",
       "      <td>000048ff-1ce7-42d1-bd50-64b540d75054</td>\n",
       "      <td>ToUDEnd</td>\n",
       "      <td>block_phase</td>\n",
       "      <td>0.004</td>\n",
       "      <td>ESIA_message_profile_in</td>\n",
       "      <td>ESIA_message_profile_out</td>\n",
       "      <td>0</td>\n",
       "    </tr>\n",
       "    <tr>\n",
       "      <th>1</th>\n",
       "      <td>000048ff-1ce7-42d1-bd50-64b540d75054</td>\n",
       "      <td>ToUDEnd</td>\n",
       "      <td>dublicate_search_find_phase</td>\n",
       "      <td>0.857</td>\n",
       "      <td>ESIA_message_profile_in</td>\n",
       "      <td>ESIA_message_profile_out</td>\n",
       "      <td>0</td>\n",
       "    </tr>\n",
       "    <tr>\n",
       "      <th>2</th>\n",
       "      <td>000048ff-1ce7-42d1-bd50-64b540d75054</td>\n",
       "      <td>ToUDEnd</td>\n",
       "      <td>flk_1_phase</td>\n",
       "      <td>0.514</td>\n",
       "      <td>ESIA_message_profile_in</td>\n",
       "      <td>ESIA_message_profile_out</td>\n",
       "      <td>0</td>\n",
       "    </tr>\n",
       "    <tr>\n",
       "      <th>3</th>\n",
       "      <td>000048ff-1ce7-42d1-bd50-64b540d75054</td>\n",
       "      <td>ToUDEnd</td>\n",
       "      <td>flk_2_phase</td>\n",
       "      <td>0.174</td>\n",
       "      <td>ESIA_message_profile_in</td>\n",
       "      <td>ESIA_message_profile_out</td>\n",
       "      <td>0</td>\n",
       "    </tr>\n",
       "    <tr>\n",
       "      <th>4</th>\n",
       "      <td>000048ff-1ce7-42d1-bd50-64b540d75054</td>\n",
       "      <td>ToUDEnd</td>\n",
       "      <td>releasing_lock_phase</td>\n",
       "      <td>0.005</td>\n",
       "      <td>ESIA_message_profile_in</td>\n",
       "      <td>ESIA_message_profile_out</td>\n",
       "      <td>0</td>\n",
       "    </tr>\n",
       "  </tbody>\n",
       "</table>\n",
       "</div>"
      ],
      "text/plain": [
       "                            OperationID processing_type  \\\n",
       "0  000048ff-1ce7-42d1-bd50-64b540d75054         ToUDEnd   \n",
       "1  000048ff-1ce7-42d1-bd50-64b540d75054         ToUDEnd   \n",
       "2  000048ff-1ce7-42d1-bd50-64b540d75054         ToUDEnd   \n",
       "3  000048ff-1ce7-42d1-bd50-64b540d75054         ToUDEnd   \n",
       "4  000048ff-1ce7-42d1-bd50-64b540d75054         ToUDEnd   \n",
       "\n",
       "                         Phase  Phase_time    Name_of_initial_phase  \\\n",
       "0                  block_phase       0.004  ESIA_message_profile_in   \n",
       "1  dublicate_search_find_phase       0.857  ESIA_message_profile_in   \n",
       "2                  flk_1_phase       0.514  ESIA_message_profile_in   \n",
       "3                  flk_2_phase       0.174  ESIA_message_profile_in   \n",
       "4         releasing_lock_phase       0.005  ESIA_message_profile_in   \n",
       "\n",
       "       Name_of_ending_phase  error_code  \n",
       "0  ESIA_message_profile_out           0  \n",
       "1  ESIA_message_profile_out           0  \n",
       "2  ESIA_message_profile_out           0  \n",
       "3  ESIA_message_profile_out           0  \n",
       "4  ESIA_message_profile_out           0  "
      ]
     },
     "execution_count": 58,
     "metadata": {},
     "output_type": "execute_result"
    }
   ],
   "source": [
    "output_report.head()"
   ]
  },
  {
   "cell_type": "markdown",
   "metadata": {},
   "source": [
    "## Расчет метрик"
   ]
  },
  {
   "cell_type": "markdown",
   "metadata": {},
   "source": [
    "Посчитаем среднее, медиану и среднеквадратичное отклонение для каждой из фаз"
   ]
  },
  {
   "cell_type": "code",
   "execution_count": 59,
   "metadata": {},
   "outputs": [
    {
     "data": {
      "text/html": [
       "<div>\n",
       "<style scoped>\n",
       "    .dataframe tbody tr th:only-of-type {\n",
       "        vertical-align: middle;\n",
       "    }\n",
       "\n",
       "    .dataframe tbody tr th {\n",
       "        vertical-align: top;\n",
       "    }\n",
       "\n",
       "    .dataframe thead th {\n",
       "        text-align: right;\n",
       "    }\n",
       "</style>\n",
       "<table border=\"1\" class=\"dataframe\">\n",
       "  <thead>\n",
       "    <tr style=\"text-align: right;\">\n",
       "      <th></th>\n",
       "      <th>Phase</th>\n",
       "      <th>mean</th>\n",
       "      <th>median</th>\n",
       "      <th>std</th>\n",
       "      <th>minimum</th>\n",
       "      <th>maximum</th>\n",
       "      <th>count</th>\n",
       "    </tr>\n",
       "  </thead>\n",
       "  <tbody>\n",
       "    <tr>\n",
       "      <th>0</th>\n",
       "      <td>block_phase</td>\n",
       "      <td>0.005443</td>\n",
       "      <td>0.005</td>\n",
       "      <td>0.009560</td>\n",
       "      <td>0.003</td>\n",
       "      <td>1.156</td>\n",
       "      <td>128103</td>\n",
       "    </tr>\n",
       "    <tr>\n",
       "      <th>1</th>\n",
       "      <td>dublicate_search_find_phase</td>\n",
       "      <td>0.495090</td>\n",
       "      <td>0.112</td>\n",
       "      <td>0.948409</td>\n",
       "      <td>0.017</td>\n",
       "      <td>86.308</td>\n",
       "      <td>127097</td>\n",
       "    </tr>\n",
       "    <tr>\n",
       "      <th>2</th>\n",
       "      <td>dublicate_search_get_phase</td>\n",
       "      <td>1.349480</td>\n",
       "      <td>0.317</td>\n",
       "      <td>4.887987</td>\n",
       "      <td>0.019</td>\n",
       "      <td>113.764</td>\n",
       "      <td>8292</td>\n",
       "    </tr>\n",
       "    <tr>\n",
       "      <th>3</th>\n",
       "      <td>flk_1_phase</td>\n",
       "      <td>0.374132</td>\n",
       "      <td>0.298</td>\n",
       "      <td>0.416973</td>\n",
       "      <td>0.061</td>\n",
       "      <td>14.820</td>\n",
       "      <td>127753</td>\n",
       "    </tr>\n",
       "    <tr>\n",
       "      <th>4</th>\n",
       "      <td>flk_2_phase</td>\n",
       "      <td>0.108773</td>\n",
       "      <td>0.084</td>\n",
       "      <td>0.163682</td>\n",
       "      <td>0.023</td>\n",
       "      <td>19.353</td>\n",
       "      <td>127235</td>\n",
       "    </tr>\n",
       "    <tr>\n",
       "      <th>5</th>\n",
       "      <td>merge_phase</td>\n",
       "      <td>0.211650</td>\n",
       "      <td>0.195</td>\n",
       "      <td>0.122013</td>\n",
       "      <td>0.118</td>\n",
       "      <td>2.427</td>\n",
       "      <td>1227</td>\n",
       "    </tr>\n",
       "    <tr>\n",
       "      <th>6</th>\n",
       "      <td>releasing_lock_phase</td>\n",
       "      <td>0.005576</td>\n",
       "      <td>0.005</td>\n",
       "      <td>0.008746</td>\n",
       "      <td>0.003</td>\n",
       "      <td>1.009</td>\n",
       "      <td>127693</td>\n",
       "    </tr>\n",
       "    <tr>\n",
       "      <th>7</th>\n",
       "      <td>saving_profile_insert_phase</td>\n",
       "      <td>5.282115</td>\n",
       "      <td>2.844</td>\n",
       "      <td>6.948995</td>\n",
       "      <td>0.265</td>\n",
       "      <td>110.936</td>\n",
       "      <td>82428</td>\n",
       "    </tr>\n",
       "    <tr>\n",
       "      <th>8</th>\n",
       "      <td>saving_profile_update_phase</td>\n",
       "      <td>9.148151</td>\n",
       "      <td>5.785</td>\n",
       "      <td>10.490129</td>\n",
       "      <td>0.244</td>\n",
       "      <td>178.368</td>\n",
       "      <td>43998</td>\n",
       "    </tr>\n",
       "    <tr>\n",
       "      <th>9</th>\n",
       "      <td>total_time</td>\n",
       "      <td>8.278118</td>\n",
       "      <td>4.912</td>\n",
       "      <td>19.993482</td>\n",
       "      <td>0.272</td>\n",
       "      <td>1954.859</td>\n",
       "      <td>127307</td>\n",
       "    </tr>\n",
       "  </tbody>\n",
       "</table>\n",
       "</div>"
      ],
      "text/plain": [
       "                         Phase      mean  median        std  minimum  \\\n",
       "0                  block_phase  0.005443   0.005   0.009560    0.003   \n",
       "1  dublicate_search_find_phase  0.495090   0.112   0.948409    0.017   \n",
       "2   dublicate_search_get_phase  1.349480   0.317   4.887987    0.019   \n",
       "3                  flk_1_phase  0.374132   0.298   0.416973    0.061   \n",
       "4                  flk_2_phase  0.108773   0.084   0.163682    0.023   \n",
       "5                  merge_phase  0.211650   0.195   0.122013    0.118   \n",
       "6         releasing_lock_phase  0.005576   0.005   0.008746    0.003   \n",
       "7  saving_profile_insert_phase  5.282115   2.844   6.948995    0.265   \n",
       "8  saving_profile_update_phase  9.148151   5.785  10.490129    0.244   \n",
       "9                   total_time  8.278118   4.912  19.993482    0.272   \n",
       "\n",
       "    maximum   count  \n",
       "0     1.156  128103  \n",
       "1    86.308  127097  \n",
       "2   113.764    8292  \n",
       "3    14.820  127753  \n",
       "4    19.353  127235  \n",
       "5     2.427    1227  \n",
       "6     1.009  127693  \n",
       "7   110.936   82428  \n",
       "8   178.368   43998  \n",
       "9  1954.859  127307  "
      ]
     },
     "execution_count": 59,
     "metadata": {},
     "output_type": "execute_result"
    }
   ],
   "source": [
    "phase_metrics = output_report \\\n",
    "    .groupby('Phase', as_index=False) \\\n",
    "    .agg(mean=('Phase_time', 'mean'), \n",
    "         median=('Phase_time', 'median'), \n",
    "         std=('Phase_time', 'std'),\n",
    "         minimum = ('Phase_time', 'min'),\n",
    "         maximum = ('Phase_time', 'max'),\n",
    "         count = ('Phase_time', 'count'))\n",
    "\n",
    "phase_metrics"
   ]
  },
  {
   "cell_type": "markdown",
   "metadata": {},
   "source": [
    "Описание полей: \n",
    "- **Phase** - название фазы:\n",
    "  - block_phase\t- фаза блокировки\n",
    "  - dublicate_search_find_phase - фаза поиска find\n",
    "  - dublicate_search_get_phase - фаза поиска get\n",
    "  - flk_1_phase - фаза ФЛК1\n",
    "  - flk_2_phase - фаза ФЛК2\n",
    "  - merge_phase - фаза мердж\n",
    "  - saving_profile_insert_phase - фаза сохранения профиля\n",
    "  - saving_profile_update_phase - фаза обновления профиля\n",
    "  - releasing_lock_phase - фаза отпускания блокировки\n",
    "\n",
    "- **mean** - среднее арифметическое времени фазы\n",
    "- **median** - медиана времени фазы\n",
    "- **std** - стандартное отклонение времени фазы\n",
    "- **minimum** - минимальное время фазы\n",
    "- **maximum** - максимальное время фазы\n",
    "- **count** - количество фаз"
   ]
  },
  {
   "cell_type": "code",
   "execution_count": 60,
   "metadata": {},
   "outputs": [
    {
     "data": {
      "image/png": "[encoded data removed]",
      "text/plain": [
       "<Figure size 2000x800 with 1 Axes>"
      ]
     },
     "metadata": {},
     "output_type": "display_data"
    }
   ],
   "source": [
    "plt.figure(figsize=(20, 8))\n",
    "phase_mean_time = sns.barplot(data=phase_metrics[~(phase_metrics['Phase'] == 'total_time')]. \\\n",
    "                              sort_values(by='mean', ascending=False), x='mean', y='Phase', color='gray')\n",
    "plt.title('Среднее время длительности фаз обработки', size=20)\n",
    "plt.ylabel('Название фазы', size=16)\n",
    "plt.xlabel('Среднее время фазы, сек.', size=16)\n",
    "plt.text(6, 8, 'В анализе участвовало 127307 профилей', size=15, backgroundcolor='#DCDCDC')\n",
    "sns.despine()"
   ]
  },
  {
   "cell_type": "code",
   "execution_count": 61,
   "metadata": {},
   "outputs": [
    {
     "data": {
      "image/png": "[encoded data removed]",
      "text/plain": [
       "<Figure size 2000x800 with 1 Axes>"
      ]
     },
     "metadata": {},
     "output_type": "display_data"
    }
   ],
   "source": [
    "# Копия датафрейма без total_time\n",
    "phase_metrics_copy = phase_metrics[~(phase_metrics['Phase'] == 'total_time')]\n",
    "\n",
    "# Зададим кастомную сортировку столбца\n",
    "custom_order = ['block_phase', \n",
    "                'flk_1_phase', \n",
    "                'dublicate_search_find_phase', \n",
    "                'dublicate_search_get_phase', \n",
    "                'merge_phase', \n",
    "                'flk_2_phase', \n",
    "                'saving_profile_insert_phase', \n",
    "                'saving_profile_update_phase', \n",
    "                'releasing_lock_phase']\n",
    "\n",
    "phase_metrics_copy['Phase'] = pd.Categorical(phase_metrics_copy['Phase'], categories=custom_order, ordered=True)\n",
    "phase_metrics_sorted = phase_metrics.sort_values(by='Phase')\n",
    "\n",
    "# Отсортировали датафрейм по порядку цикла фаз обработки\n",
    "phase_metrics_sorted\n",
    "\n",
    "# Продублируем предыдущий график с новой сортировкой\n",
    "plt.figure(figsize=(20, 8))\n",
    "phase_mean_time_sorted = sns.barplot(data=phase_metrics_sorted, x='mean', y='Phase', color='gray')\n",
    "plt.title('Среднее время длительности фаз обработки', size=20)\n",
    "plt.ylabel('Название фазы', size=16)\n",
    "plt.xlabel('Среднее время фазы, сек.', size=16)\n",
    "plt.text(6, 1, 'В анализе участвовало 127307 профилей', size=15, backgroundcolor='#DCDCDC')\n",
    "sns.despine()"
   ]
  },
  {
   "cell_type": "markdown",
   "metadata": {},
   "source": [
    "Распределение total_time"
   ]
  },
  {
   "cell_type": "code",
   "execution_count": 62,
   "metadata": {},
   "outputs": [
    {
     "data": {
      "image/png": "[encoded data removed]",
      "text/plain": [
       "<Figure size 800x400 with 1 Axes>"
      ]
     },
     "metadata": {},
     "output_type": "display_data"
    }
   ],
   "source": [
    "only_total = output_report[output_report['Phase'] == 'total_time']\n",
    "plt.figure(figsize=(8, 4))\n",
    "ax = sns.histplot(data=only_total, x='Phase_time', bins=10000)\n",
    "ax.set_xlim(0, 100)\n",
    "plt.title('Гистограмма распределения полного времени обработки профиля', size=12)\n",
    "plt.xlabel('Время обработки, сек', size=10)\n",
    "plt.ylabel('Количество профилей', size=10)\n",
    "sns.despine()\n",
    "plt.show()"
   ]
  },
  {
   "cell_type": "code",
   "execution_count": 70,
   "metadata": {},
   "outputs": [
    {
     "data": {
      "image/png": "[encoded data removed]",
      "text/plain": [
       "<Figure size 1200x500 with 1 Axes>"
      ]
     },
     "metadata": {},
     "output_type": "display_data"
    }
   ],
   "source": [
    "# Среднее время обработки профиля в зависимости от точки входа\n",
    "time_by_initial = output_report[output_report['Phase'] == 'total_time'] \\\n",
    "                 .groupby('Name_of_initial_phase', as_index=False) \\\n",
    "                 .agg({'Phase_time':'mean'}) \\\n",
    "                 .sort_values(by='Phase_time', ascending=False)\n",
    "plt.figure(figsize=(12, 5))\n",
    "time_by_in = sns.barplot(data=time_by_initial, x='Name_of_initial_phase', y='Phase_time', color='gray')\n",
    "plt.title('Среднее время обработки профиля по внешним системам')\n",
    "plt.tick_params(axis='x', which='major', labelsize=5.5)\n",
    "plt.ylabel('Время обработки, сек')\n",
    "plt.xlabel('Внешняя система (начальная фаза обработки)')\n",
    "sns.despine()\n",
    "\n",
    "plt.show()"
   ]
  },
  {
   "cell_type": "markdown",
   "metadata": {},
   "source": [
    "Найдем долю профилей, обработанных с ошибками. Посмотрим, как часто в процессе возникают баги."
   ]
  },
  {
   "cell_type": "code",
   "execution_count": 104,
   "metadata": {},
   "outputs": [],
   "source": [
    "# Добавим датафрейму с профилями с ошибкой 1 столбец с кодом ошибки\n",
    "error_report['error_code'] = 1\n",
    "\n",
    "# Соединим таблицу с обработанными профилями с профилями с ошибкой 1\n",
    "all_error_rep = pd.concat([output_report, error_report], axis=0)\n",
    "\n",
    "# Считаем долю профилей с ошибкой\n",
    "error_count = all_error_rep.groupby('error_code', as_index=False).agg({'OperationID':'nunique'})\n",
    "error_count['share_of_total'] = round((error_count['OperationID']  / sum(error_count['OperationID'])) * 100, 2)\n",
    "error_count.rename(columns={'OperationID':'id_count'}, inplace=True)"
   ]
  },
  {
   "cell_type": "code",
   "execution_count": 105,
   "metadata": {},
   "outputs": [
    {
     "data": {
      "text/html": [
       "<div>\n",
       "<style scoped>\n",
       "    .dataframe tbody tr th:only-of-type {\n",
       "        vertical-align: middle;\n",
       "    }\n",
       "\n",
       "    .dataframe tbody tr th {\n",
       "        vertical-align: top;\n",
       "    }\n",
       "\n",
       "    .dataframe thead th {\n",
       "        text-align: right;\n",
       "    }\n",
       "</style>\n",
       "<table border=\"1\" class=\"dataframe\">\n",
       "  <thead>\n",
       "    <tr style=\"text-align: right;\">\n",
       "      <th></th>\n",
       "      <th>error_code</th>\n",
       "      <th>id_count</th>\n",
       "      <th>share_of_total</th>\n",
       "    </tr>\n",
       "  </thead>\n",
       "  <tbody>\n",
       "    <tr>\n",
       "      <th>0</th>\n",
       "      <td>0</td>\n",
       "      <td>120886</td>\n",
       "      <td>88.81</td>\n",
       "    </tr>\n",
       "    <tr>\n",
       "      <th>1</th>\n",
       "      <td>1</td>\n",
       "      <td>8818</td>\n",
       "      <td>6.48</td>\n",
       "    </tr>\n",
       "    <tr>\n",
       "      <th>2</th>\n",
       "      <td>2</td>\n",
       "      <td>6421</td>\n",
       "      <td>4.72</td>\n",
       "    </tr>\n",
       "  </tbody>\n",
       "</table>\n",
       "</div>"
      ],
      "text/plain": [
       "   error_code  id_count  share_of_total\n",
       "0           0    120886           88.81\n",
       "1           1      8818            6.48\n",
       "2           2      6421            4.72"
      ]
     },
     "execution_count": 105,
     "metadata": {},
     "output_type": "execute_result"
    }
   ],
   "source": [
    "error_count"
   ]
  },
  {
   "cell_type": "markdown",
   "metadata": {},
   "source": [
    "**10% профилей обрабатывается с различными ошибками**. Однако, из этого пула уже были выброшены профили без входящей фазы, профили с бизнес-ошибками, сооттветственно если бы мы считали общее количество ошибок обработки (без распределения по кодам), то их было бы больше."
   ]
  },
  {
   "cell_type": "markdown",
   "metadata": {},
   "source": [
    "Посмотрим, сколько профилей обрабатывается по разным режимам"
   ]
  },
  {
   "cell_type": "code",
   "execution_count": 110,
   "metadata": {},
   "outputs": [],
   "source": [
    "process_count = output_report.groupby('processing_type', as_index=False).agg(id_count=('OperationID', 'nunique'))\n",
    "process_count['share_of_total'] = round((process_count['id_count']  / sum(process_count['id_count'])) * 100, 2)"
   ]
  },
  {
   "cell_type": "code",
   "execution_count": 111,
   "metadata": {},
   "outputs": [
    {
     "data": {
      "text/html": [
       "<div>\n",
       "<style scoped>\n",
       "    .dataframe tbody tr th:only-of-type {\n",
       "        vertical-align: middle;\n",
       "    }\n",
       "\n",
       "    .dataframe tbody tr th {\n",
       "        vertical-align: top;\n",
       "    }\n",
       "\n",
       "    .dataframe thead th {\n",
       "        text-align: right;\n",
       "    }\n",
       "</style>\n",
       "<table border=\"1\" class=\"dataframe\">\n",
       "  <thead>\n",
       "    <tr style=\"text-align: right;\">\n",
       "      <th></th>\n",
       "      <th>processing_type</th>\n",
       "      <th>id_count</th>\n",
       "      <th>share_of_total</th>\n",
       "    </tr>\n",
       "  </thead>\n",
       "  <tbody>\n",
       "    <tr>\n",
       "      <th>0</th>\n",
       "      <td>NoSave</td>\n",
       "      <td>1430</td>\n",
       "      <td>1.12</td>\n",
       "    </tr>\n",
       "    <tr>\n",
       "      <th>1</th>\n",
       "      <td>ToUDEnd</td>\n",
       "      <td>125877</td>\n",
       "      <td>98.88</td>\n",
       "    </tr>\n",
       "  </tbody>\n",
       "</table>\n",
       "</div>"
      ],
      "text/plain": [
       "  processing_type  id_count  share_of_total\n",
       "0          NoSave      1430            1.12\n",
       "1         ToUDEnd    125877           98.88"
      ]
     },
     "execution_count": 111,
     "metadata": {},
     "output_type": "execute_result"
    }
   ],
   "source": [
    "process_count"
   ]
  },
  {
   "cell_type": "markdown",
   "metadata": {},
   "source": [
    "Практически все профили идут по полному режиму обработки."
   ]
  },
  {
   "cell_type": "markdown",
   "metadata": {},
   "source": [
    "## Функция для автоматической обработки и вывода информации"
   ]
  },
  {
   "cell_type": "code",
   "execution_count": 64,
   "metadata": {},
   "outputs": [],
   "source": [
    "#df_name = input()\n",
    "# ввести имя датафрейма в формате 'df.csv'"
   ]
  },
  {
   "cell_type": "code",
   "execution_count": 65,
   "metadata": {},
   "outputs": [],
   "source": [
    "def get_phase_for_func(row):\n",
    "    if row['PhaseID'] in initial_phase:\n",
    "        if row['PhaseID_num'] == 0:\n",
    "            return 'initial_phase'\n",
    "        else:\n",
    "            return f\"initial_phase_{row['PhaseID_num']}\"\n",
    "        \n",
    "    elif row['PhaseID'] in ending_phase:\n",
    "        if row['PhaseID_num'] == 0:\n",
    "            return 'ending_phase'\n",
    "        else:\n",
    "            return f\"ending_phase_{row['PhaseID_num']}\"\n",
    "        \n",
    "    elif row['PhaseID'] in block_phase:\n",
    "        if row['PhaseID_num'] == 0:\n",
    "            return 'block_phase'\n",
    "        else:\n",
    "            return f\"block_phase_{row['PhaseID_num']}\"\n",
    "        \n",
    "    elif row['PhaseID'] in flk_1_phase:\n",
    "        if row['PhaseID_num'] == 0:\n",
    "            return 'flk_1_phase'\n",
    "        else:\n",
    "            return f\"flk_1_phase_{row['PhaseID_num']}\"\n",
    "        \n",
    "    elif row['PhaseID'] in dublicate_search_phase:\n",
    "        if '_get' in row['PhaseID']:\n",
    "            if row['PhaseID_num'] == 0:\n",
    "                return 'dublicate_search_get_phase'\n",
    "            else:\n",
    "                return f\"dublicate_search_get_phase_{row['PhaseID_num']}\"\n",
    "        elif '_find_' in row['PhaseID']:\n",
    "            if row['PhaseID_num'] == 0:\n",
    "                return 'dublicate_search_find_phase'\n",
    "            else:\n",
    "                return f\"dublicate_search_find_phase_{row['PhaseID_num']}\"\n",
    "            \n",
    "    elif row['PhaseID'] in flk_2_phase:\n",
    "        if row['PhaseID_num'] == 0:\n",
    "            return 'flk_2_phase'\n",
    "        else:\n",
    "            return f\"flk_2_phase_{row['PhaseID_num']}\"\n",
    "        \n",
    "    elif row['PhaseID'] in saving_profile_phase:\n",
    "        if 'insert' in row['PhaseID']:\n",
    "            if row['PhaseID_num'] == 0:\n",
    "                return 'saving_profile_insert_phase'\n",
    "            else:\n",
    "                return f\"saving_profile_insert_phase_{row['PhaseID_num']}\"\n",
    "        elif 'update' in row['PhaseID']:\n",
    "            if row['PhaseID_num'] == 0:\n",
    "                return 'saving_profile_update_phase'\n",
    "            else:\n",
    "                return f\"saving_profile_update_phase_{row['PhaseID_num']}\"\n",
    "        \n",
    "    elif row['PhaseID'] in releasing_lock_phase:\n",
    "        if row['PhaseID_num'] == 0:\n",
    "            return 'releasing_lock_phase'\n",
    "        else:\n",
    "            return f\"releasing_lock_phase_{row['PhaseID_num']}\""
   ]
  },
  {
   "cell_type": "code",
   "execution_count": 66,
   "metadata": {},
   "outputs": [],
   "source": [
    "def get_metrics(df_name):\n",
    "    report = pd.read_csv(df_name)\n",
    "    report_copy = report[['OperationID', 'PhaseID', 'Timestamp']]\n",
    "    report_copy['Timestamp'] = pd.to_datetime(report_copy['Timestamp'], format='%Y-%m-%d-%H-%M-%S-%f')\n",
    "\n",
    "    initial_phase = ['stage_sudir2', \n",
    "                 'ulk_profile_in', \n",
    "                 'ESIA_message_profile_in', \n",
    "                 'MFC_message_profile_in', \n",
    "                 'FATALOIV_message_profile_in',\n",
    "                 'ROGDOIV_message_profile_in',\n",
    "                 'BRAKZAKOIV_message_profile_in',\n",
    "                 'BRAKRASTOIV_message_profile_in', \n",
    "                 'PARENTOIV_message_profile_in',\n",
    "                 'FATAL_message_profile_in',\n",
    "                 'ROGD_message_profile_in',\n",
    "                 'PERNAME_message_profile_in',\n",
    "                 'ERL_message_profile_in',\n",
    "                 'RR_message_profile_in']\n",
    "\n",
    "    block_phase = ['lock_start', 'lock_end']\n",
    "\n",
    "    flk_1_phase = ['stage_to_flk1', 'stage_flk1']\n",
    "\n",
    "    dublicate_search_phase = ['stage_get_dublicate', \n",
    "                          'stage_ud_get_json', \n",
    "                          'stage_find_dublicate', \n",
    "                          'stage_ud_find_json']\n",
    "\n",
    "    flk_2_phase = ['stage_to_flk2', 'stage_flk2']\n",
    "\n",
    "    saving_profile_phase = ['stage_json_insert', \n",
    "                        'ud_response_insert', \n",
    "                        'stage_json_update', \n",
    "                        'ud_response_update']\n",
    "\n",
    "    releasing_lock_phase = ['unlock_start', 'unlock_end']\n",
    "\n",
    "    ending_phase = ['stage_sudir2_resp', \n",
    "                'ulk_profile_out', \n",
    "                'ESIA_message_profile_out', \n",
    "                'MFC_message_profile_out', \n",
    "                'FATALOIV_message_profile_out',\n",
    "                'ROGDOIV_message_profile_out', \n",
    "                'BRAKZAKOIV_message_profile_out', \n",
    "                'BRAKRASTOIV_message_profile_out',\n",
    "                'PARENTOIV_message_profile_out', \n",
    "                'FATAL_message_profile_out', \n",
    "                'ROGD_message_profile_out',\n",
    "                'PERNAME_message_profile_out',\n",
    "                'ERL_message_profile_out',\n",
    "                'RR_message_profile_out']\n",
    "\n",
    "    validation_phase = ['stage_ksrd_valid_save', \n",
    "                    'extval_from_ksrd_asur_msg'] \n",
    "\n",
    "    ignore_phase = ['locked_by_merge'] \n",
    "\n",
    "    error_business_phase = ['skip_new_deleted', 'stage_cannot_del_val', 'stage_update_rip']\n",
    "\n",
    "    error_phase = ['exception', 'stoplist_response', 'stoplist_response_org']\n",
    "    \n",
    "    unknow_phase = []\n",
    "    all_phase = (initial_phase + \n",
    "             block_phase + \n",
    "             flk_1_phase + \n",
    "             dublicate_search_phase +\n",
    "             flk_2_phase + \n",
    "             saving_profile_phase + \n",
    "             releasing_lock_phase + \n",
    "             ending_phase + \n",
    "             validation_phase +\n",
    "             ignore_phase + \n",
    "             error_business_phase +\n",
    "             error_phase)\n",
    "    for phase in report_copy['PhaseID']:\n",
    "        if phase in all_phase:\n",
    "            continue\n",
    "        else:\n",
    "            if phase in unknow_phase:\n",
    "                continue\n",
    "            else:\n",
    "                unknow_phase.append(phase)\n",
    "                \n",
    "    ignore_phase += unknow_phase\n",
    "\n",
    "    error_report = report_copy[report_copy['PhaseID'].isin(error_phase)]\n",
    "    operation_id_errors = error_report['OperationID'].to_list()\n",
    "    report_copy = report_copy[~report_copy['OperationID'].isin(operation_id_errors)]\n",
    "    profile_with_in = report_copy[report_copy['PhaseID'].isin(initial_phase)].OperationID.to_list()\n",
    "    report_copy = report_copy[report_copy['OperationID'].isin(profile_with_in)]\n",
    "    profile_error_business = report_copy[report_copy['PhaseID'].isin(error_business_phase)].OperationID.to_list()\n",
    "    report_copy = report_copy[~report_copy['OperationID'].isin(profile_error_business)]\n",
    "    report_copy_error_2 = report_copy[report_copy['PhaseID'].isin(validation_phase)]\n",
    "    operation_id_error_2 = list(report_copy_error_2.OperationID.unique())\n",
    "    end_time = report_copy[report_copy['PhaseID'].isin(ending_phase)] \\\n",
    "           .groupby(['OperationID', 'PhaseID'], as_index=False) \\\n",
    "           .agg({'Timestamp':'max'})[['OperationID', 'Timestamp']]\n",
    "    end_time.rename(columns={'Timestamp':'max_time'}, inplace=True)\n",
    "    report_copy = pd.merge(report_copy, end_time, how='left', on='OperationID')\n",
    "    report_copy = report_copy[report_copy['Timestamp'] <= report_copy['max_time']] \\\n",
    "             .drop_duplicates(subset=['OperationID', 'PhaseID', 'Timestamp'])\n",
    "    report_copy = report_copy[['OperationID', 'PhaseID', 'Timestamp']]\n",
    "    report_copy_clean = report_copy[~report_copy['PhaseID'].isin(ignore_phase)]\n",
    "\n",
    "    report_copy_clean['PhaseID_num'] = report_copy_clean.groupby(['OperationID', 'PhaseID']).cumcount()\n",
    "    # вот тут важно проверить!\n",
    "    report_copy_clean['Phase'] = report_copy_clean.apply(get_phase_for_func, axis=1)\n",
    "    sorted_report = report_copy_clean.sort_values(by=['OperationID', 'Timestamp'])[['OperationID', 'PhaseID', 'Timestamp', 'Phase']]\n",
    "    sorted_report['time_diff'] = sorted_report.groupby(['OperationID', 'Phase'])['Timestamp'].diff()\n",
    "    sorted_report['time_diff'] = np.where((sorted_report['Phase'] == 'initial_phase') | (sorted_report['Phase'] == 'ending_phase'), \n",
    "                                     sorted_report['Timestamp'],\n",
    "                                     sorted_report['time_diff'])\n",
    "    report_for_pivot = sorted_report.dropna(subset=['time_diff']).reset_index()\n",
    "    report_pivot = sorted_report \\\n",
    "              .dropna(subset=['time_diff']) \\\n",
    "              .reset_index() \\\n",
    "              .pivot(index='OperationID', columns='Phase', values='time_diff')\n",
    "    report_pivot['total_time'] = report_pivot['ending_phase'] - report_pivot['initial_phase']\n",
    "\n",
    "    return report_pivot"
   ]
  },
  {
   "cell_type": "code",
   "execution_count": 67,
   "metadata": {},
   "outputs": [
    {
     "ename": "NameError",
     "evalue": "name 'df_name' is not defined",
     "output_type": "error",
     "traceback": [
      "\u001b[31m---------------------------------------------------------------------------\u001b[39m",
      "\u001b[31mNameError\u001b[39m                                 Traceback (most recent call last)",
      "\u001b[36mCell\u001b[39m\u001b[36m \u001b[39m\u001b[32mIn[67]\u001b[39m\u001b[32m, line 1\u001b[39m\n\u001b[32m----> \u001b[39m\u001b[32m1\u001b[39m get_metrics(\u001b[43mdf_name\u001b[49m)\n",
      "\u001b[31mNameError\u001b[39m: name 'df_name' is not defined"
     ]
    }
   ],
   "source": [
    "get_metrics(df_name)"
   ]
  },
  {
   "cell_type": "code",
   "execution_count": null,
   "metadata": {},
   "outputs": [],
   "source": []
  }
 ],
 "metadata": {
  "kernelspec": {
   "display_name": "Python 3 (ipykernel)",
   "language": "python",
   "name": "python3"
  },
  "language_info": {
   "codemirror_mode": {
    "name": "ipython",
    "version": 3
   },
   "file_extension": ".py",
   "mimetype": "text/x-python",
   "name": "python",
   "nbconvert_exporter": "python",
   "pygments_lexer": "ipython3",
   "version": "3.13.7"
  }
 },
 "nbformat": 4,
 "nbformat_minor": 4
}
